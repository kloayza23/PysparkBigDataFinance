{
 "cells": [
  {
   "cell_type": "markdown",
   "metadata": {},
   "source": [
    "## Final Project of Big Data"
   ]
  },
  {
   "cell_type": "markdown",
   "metadata": {},
   "source": [
    "## Import Libraries"
   ]
  },
  {
   "cell_type": "code",
   "execution_count": 108,
   "metadata": {},
   "outputs": [],
   "source": [
    "import pyspark\n",
    "from pyspark import SparkContext\n",
    "from pyspark.sql import SQLContext\n",
    "#sc = SparkContext('local', 'pyspark') \n",
    "sqlContext = SQLContext(sc)"
   ]
  },
  {
   "cell_type": "markdown",
   "metadata": {},
   "source": [
    "## Load Data Set"
   ]
  },
  {
   "cell_type": "code",
   "execution_count": 109,
   "metadata": {},
   "outputs": [],
   "source": [
    "loadPath = \"../dataset/lending/loan.csv\"\n",
    "dataload = sqlContext.read.csv(loadPath, header='true')\n",
    "dataload.createOrReplaceTempView(\"loancredit\")\n",
    "#dataload.cache()"
   ]
  },
  {
   "cell_type": "markdown",
   "metadata": {},
   "source": [
    "## Show Schema"
   ]
  },
  {
   "cell_type": "code",
   "execution_count": null,
   "metadata": {},
   "outputs": [],
   "source": [
    "dataload.printSchema()"
   ]
  },
  {
   "cell_type": "code",
   "execution_count": null,
   "metadata": {},
   "outputs": [],
   "source": [
    "dataload.count()"
   ]
  },
  {
   "cell_type": "markdown",
   "metadata": {},
   "source": [
    "# Clean data"
   ]
  },
  {
   "cell_type": "markdown",
   "metadata": {},
   "source": [
    "## Check for duplications"
   ]
  },
  {
   "cell_type": "code",
   "execution_count": null,
   "metadata": {},
   "outputs": [],
   "source": [
    "print('Count of rows: {0}'.format(dataload.count()))\n",
    "print('Count of distinct rows: {0}'.format(dataload.distinct().count()))"
   ]
  },
  {
   "cell_type": "markdown",
   "metadata": {},
   "source": [
    "The amount of rows is same, so not exist duplicate data"
   ]
  },
  {
   "cell_type": "markdown",
   "metadata": {},
   "source": [
    "## Missing observations"
   ]
  },
  {
   "cell_type": "code",
   "execution_count": 110,
   "metadata": {
    "scrolled": true
   },
   "outputs": [
    {
     "name": "stdout",
     "output_type": "stream",
     "text": [
      "+-----------+---------+-----------+----------+-----+---------+--------------+-------------------+--------------+--------------------+----------+--------+----------+-----+--------------+--------+-------+---------+----------+---------+-------------+---------------+---------------+-------------+\n",
      "|loan_status|loan_amnt|funded_amnt|      term|grade|sub_grade|home_ownership|verification_status|       purpose|               title|emp_length|int_rate|annual_inc|  dti|inq_last_6mths|open_acc|pub_rec|revol_bal|revol_util|total_acc|  total_pymnt|total_pymnt_inv|total_rec_prncp|total_rec_int|\n",
      "+-----------+---------+-----------+----------+-----+---------+--------------+-------------------+--------------+--------------------+----------+--------+----------+-----+--------------+--------+-------+---------+----------+---------+-------------+---------------+---------------+-------------+\n",
      "| Fully Paid|   5000.0|     5000.0| 36 months|    B|       B2|          RENT|           Verified|   credit_card|            Computer| 10+ years|   10.65|   24000.0|27.65|           1.0|     3.0|    0.0|  13648.0|      83.7|      9.0|5861.07141425|        5831.78|         5000.0|       861.07|\n",
      "|Charged Off|   2500.0|     2500.0| 60 months|    C|       C4|          RENT|    Source Verified|           car|                bike|  < 1 year|   15.27|   30000.0|  1.0|           5.0|     3.0|    0.0|   1687.0|       9.4|      4.0|      1008.71|        1008.71|         456.46|       435.17|\n",
      "| Fully Paid|   2400.0|     2400.0| 36 months|    C|       C5|          RENT|       Not Verified|small_business|real estate business| 10+ years|   15.96|   12252.0| 8.72|           2.0|     2.0|    0.0|   2956.0|      98.5|     10.0|3003.65364445|        3003.65|         2400.0|       603.65|\n",
      "| Fully Paid|  10000.0|    10000.0| 36 months|    C|       C1|          RENT|    Source Verified|         other|            personel| 10+ years|   13.49|   49200.0| 20.0|           1.0|    10.0|    0.0|   5598.0|      21.0|     37.0|12226.3022123|        12226.3|        10000.0|      2209.33|\n",
      "|    Current|   3000.0|     3000.0| 60 months|    B|       B5|          RENT|    Source Verified|         other|            Personal|    1 year|   12.69|   80000.0|17.94|           0.0|    15.0|    0.0|  27783.0|      53.9|     38.0|      3242.17|        3242.17|         2233.1|      1009.07|\n",
      "+-----------+---------+-----------+----------+-----+---------+--------------+-------------------+--------------+--------------------+----------+--------+----------+-----+--------------+--------+-------+---------+----------+---------+-------------+---------------+---------------+-------------+\n",
      "only showing top 5 rows\n",
      "\n"
     ]
    }
   ],
   "source": [
    "datafilterloan = sqlContext.sql(\"select loan_status,loan_amnt,funded_amnt,term,grade,sub_grade,home_ownership,verification_status,purpose,title,emp_length,int_rate,annual_inc,dti,inq_last_6mths,open_acc,pub_rec,revol_bal,revol_util,total_acc,total_pymnt,total_pymnt_inv,total_rec_prncp,total_rec_int from loancredit\")\n",
    "#datafilterloan_1=sqlContext.sql(\"select loan_status,loan_amnt as lo_mnt,funded_amnt as fun_mnt,term,grade,sub_grade as s_grad,home_ownership as hom_own,verification_status as verfi_sta,purpose from loancredit\")\n",
    "#sqlContext.sql(\"select loan_status,loan_amnt as lo_mnt,funded_amnt as fun_mnt,term,grade,sub_grade as s_grad,home_ownership as hom_own,verification_status as verfi_sta,purpose from loancredit\").show(5)\n",
    "#datafilterloan_2=sqlContext.sql(\"select loan_status,title,emp_length,int_rate,annual_inc,dti,inq_last_6mths,open_acc,pub_rec,revol_bal from loancredit\")\n",
    "#sqlContext.sql(\"select loan_status,title,emp_length,int_rate,annual_inc,dti,inq_last_6mths,open_acc,pub_rec,revol_bal from loancredit\").show(5)\n",
    "#datafilterloan_3=sqlContext.sql(\"select loan_status,revol_util,total_acc,total_pymnt,total_pymnt_inv,total_rec_prncp as TotRecPy,total_rec_int as TotRecInt,last_pymnt_amnt,last_pymnt_d from loancredit\")\n",
    "#sqlContext.sql(\"select loan_status,revol_util,total_acc,total_pymnt,total_pymnt_inv,total_rec_prncp as TotRecPy,total_rec_int as TotRecInt,last_pymnt_amnt,last_pymnt_d from loancredit\").show(5)\n",
    "datafilterloan.show(5)"
   ]
  },
  {
   "cell_type": "markdown",
   "metadata": {},
   "source": [
    "### Discretization: Convert the categorical variable in numeric variable.\n",
    "### Conversion of the following variable:\n",
    "* loan_status\n",
    "* term\n",
    "* grade\n",
    "* sub_grade\n",
    "* home_ownership\n",
    "* verification_status\n",
    "* purpose\n",
    "* emp_length"
   ]
  },
  {
   "cell_type": "markdown",
   "metadata": {},
   "source": [
    "### Encoding function of the following variable (Loan Status, term, grade, sub_grade, home_ownership, verification_status, purpose, title)"
   ]
  },
  {
   "cell_type": "code",
   "execution_count": 111,
   "metadata": {},
   "outputs": [
    {
     "name": "stdout",
     "output_type": "stream",
     "text": [
      "10\n"
     ]
    }
   ],
   "source": [
    "def loan_status_transformer(cat):\n",
    "    if(cat is None):\n",
    "        return 0\n",
    "    else:\n",
    "        if(cat == 'Fully Paid'): \n",
    "            return 1\n",
    "        elif(cat == 'Charged Off'): \n",
    "            return 2\n",
    "        elif(cat == 'Current'): \n",
    "            return 3\n",
    "        elif(cat == 'Default'): \n",
    "            return 4\n",
    "        elif(cat == 'In Grace Period'): \n",
    "            return 5\n",
    "        elif(cat == 'Late (31-120 days)'): \n",
    "            return 6\n",
    "        else:\n",
    "            return 0\n",
    "def term_transformer(cat):\n",
    "    if(cat is None):\n",
    "        return 0\n",
    "    else:\n",
    "        if(cat.strip() == '60 months'): \n",
    "            return 2\n",
    "        elif(cat.strip() == '36 months'): \n",
    "            return 1\n",
    "        else:\n",
    "            return 0\n",
    "def grade_transformer(cat):\n",
    "    if(cat is None):\n",
    "        return 0\n",
    "    else:\n",
    "        alfa = \"ABCDEFG\"\n",
    "        for ind,x in enumerate(alfa):\n",
    "            if(x==cat):\n",
    "                return ind+1  \n",
    "        return 0\n",
    "def subgrade_transformer(cat):\n",
    "    if(cat is None):\n",
    "        return 0\n",
    "    else:\n",
    "        alfa = \"ABCDEFG\"\n",
    "        numer = \"12345\"\n",
    "        count=1\n",
    "        for indx,x in enumerate(alfa):\n",
    "            for indy,y in enumerate(numer):\n",
    "                if(x+y == cat.strip()):\n",
    "                    return count\n",
    "                count+=1\n",
    "        return count\n",
    "def emplen_transformer(cat):\n",
    "    output=0\n",
    "    if(cat == \"n/a\" or cat is None):\n",
    "        output=0\n",
    "    if(cat == \"< 1 year\"):\n",
    "        output=1\n",
    "    for item in range(10):\n",
    "        if((str(item)+\" years\") == cat.strip()):\n",
    "            output=item\n",
    "    if(cat =='10+ years'):\n",
    "        output=10\n",
    "    return output\n",
    "def hoow_transformer(cat):\n",
    "    if(cat is None):\n",
    "            return 0\n",
    "    else:\n",
    "        if(cat.strip() == 'MORTAGE'): \n",
    "            return 1\n",
    "        elif(cat.strip() == 'OWN'): \n",
    "            return 2\n",
    "        elif(cat.strip() == 'RENT'): \n",
    "            return 3\n",
    "        else:\n",
    "            return 0\n",
    "def verst_transformer(cat):\n",
    "    if(cat is None):\n",
    "        return 0\n",
    "    else:\n",
    "        if(cat.strip() == 'Not Verified'): \n",
    "            return 1\n",
    "        elif(cat.strip() == 'Verified'): \n",
    "            return 2\n",
    "        elif(cat.strip() == 'Source Verified'): \n",
    "            return 3\n",
    "        else:\n",
    "            return 0\n",
    "def purp_transformer(cat):\n",
    "    if(cat is None):\n",
    "        return 0\n",
    "    else:\n",
    "        if(cat.strip() == 'car'): \n",
    "            return 13\n",
    "        elif(cat.strip() == 'credit_card'): \n",
    "            return 1\n",
    "        elif(cat.strip() == 'debt_consolidation'): \n",
    "            return 2\n",
    "        elif(cat.strip() == 'home_improvement'): \n",
    "            return 3\n",
    "        elif(cat.strip() == 'house'): \n",
    "            return 4\n",
    "        elif(cat.strip() == 'major_purchase'): \n",
    "            return 5\n",
    "        elif(cat.strip() == 'medical'): \n",
    "            return 6\n",
    "        elif(cat.strip() == 'moving'): \n",
    "            return 7\n",
    "        elif(cat.strip() == 'other'): \n",
    "            return 8\n",
    "        elif(cat.strip() == 'renewable_energi'): \n",
    "            return 9\n",
    "        elif(cat.strip() == 'small_business'): \n",
    "            return 10\n",
    "        elif(cat.strip() == 'vacation'): \n",
    "            return 11\n",
    "        elif(cat.strip() == 'wedding'): \n",
    "            return 12\n",
    "        else:\n",
    "            return 0\n",
    "print(emplen_transformer('10+ years'))"
   ]
  },
  {
   "cell_type": "code",
   "execution_count": 112,
   "metadata": {},
   "outputs": [],
   "source": [
    "import pyspark.ml.feature as ft\n",
    "import pyspark.sql.types as typ\n",
    "import numpy as np\n",
    "from pyspark.sql.functions import udf\n",
    "from pyspark.sql.types import *"
   ]
  },
  {
   "cell_type": "markdown",
   "metadata": {},
   "source": [
    "### Convert from categorical to numerical features through UDF"
   ]
  },
  {
   "cell_type": "code",
   "execution_count": 113,
   "metadata": {},
   "outputs": [],
   "source": [
    "# loan_status\n",
    "udfloan_status_transformer = udf(loan_status_transformer, IntegerType())\n",
    "datafilterloan = datafilterloan.withColumn(\"loan_status_int\", udfloan_status_transformer(\"loan_status\"))\n",
    "# term\n",
    "udfterm_transformer = udf(term_transformer, IntegerType())\n",
    "datafilterloan = datafilterloan.withColumn(\"term_int\", udfterm_transformer(\"term\"))\n",
    "# grade\n",
    "udfgrade_transformer = udf(grade_transformer, IntegerType())\n",
    "datafilterloan = datafilterloan.withColumn(\"grade_int\", udfgrade_transformer(\"grade\"))\n",
    "# sub_grade\n",
    "udfsubgrade_transformer = udf(subgrade_transformer, IntegerType())\n",
    "datafilterloan = datafilterloan.withColumn(\"su_grad_int\", udfsubgrade_transformer(\"sub_grade\"))\n",
    "# home_ownership\n",
    "udfhoow_transformer = udf(hoow_transformer, IntegerType())\n",
    "datafilterloan = datafilterloan.withColumn(\"homeowner_int\", udfhoow_transformer(\"home_ownership\"))\n",
    "# verification_status\n",
    "udfverst_transformer = udf(verst_transformer, IntegerType())\n",
    "datafilterloan = datafilterloan.withColumn(\"veri_sta_int\", udfverst_transformer(\"verification_status\"))\n",
    "# purpose\n",
    "udfpurp_transformer = udf(purp_transformer, IntegerType())\n",
    "datafilterloan = datafilterloan.withColumn(\"purpose_int\", udfpurp_transformer(\"purpose\"))\n",
    "# purpose\n",
    "udfemplen_transformer = udf(emplen_transformer, IntegerType())\n",
    "datafilterloan = datafilterloan.withColumn(\"emp_length_int\", udfemplen_transformer(\"emp_length\"))"
   ]
  },
  {
   "cell_type": "markdown",
   "metadata": {},
   "source": [
    "### Test of Discretizaties values"
   ]
  },
  {
   "cell_type": "code",
   "execution_count": 114,
   "metadata": {},
   "outputs": [
    {
     "name": "stdout",
     "output_type": "stream",
     "text": [
      "+---------------+--------+---------+-----------+-------------+------------+-----------+--------------+\n",
      "|loan_status_int|term_int|grade_int|su_grad_int|homeowner_int|veri_sta_int|purpose_int|emp_length_int|\n",
      "+---------------+--------+---------+-----------+-------------+------------+-----------+--------------+\n",
      "|              1|       1|        2|          7|            3|           2|          1|            10|\n",
      "|              2|       2|        3|         14|            3|           3|         13|             1|\n",
      "|              1|       1|        3|         15|            3|           1|         10|            10|\n",
      "|              1|       1|        3|         11|            3|           3|          8|            10|\n",
      "|              3|       2|        2|         10|            3|           3|          8|             0|\n",
      "|              1|       1|        1|          4|            3|           3|         12|             3|\n",
      "|              3|       2|        3|         15|            3|           1|          2|             8|\n",
      "|              1|       1|        5|         21|            3|           3|         13|             9|\n",
      "|              2|       2|        6|         27|            2|           3|         10|             4|\n",
      "|              2|       2|        2|         10|            3|           2|          8|             1|\n",
      "+---------------+--------+---------+-----------+-------------+------------+-----------+--------------+\n",
      "only showing top 10 rows\n",
      "\n"
     ]
    }
   ],
   "source": [
    "datafilterloan.select(\"loan_status_int\",\"term_int\",\"grade_int\",\"su_grad_int\",\"homeowner_int\",\"veri_sta_int\",\"purpose_int\",\"emp_length_int\").show(10)"
   ]
  },
  {
   "cell_type": "markdown",
   "metadata": {},
   "source": [
    "## Stratification: Put values in range.\n",
    "   ### Strat the following variable:\n",
    "\n",
    "* loan_amnt\n",
    "* funded_amnt\n",
    "* annual_inc\n",
    "* revol_bal"
   ]
  },
  {
   "cell_type": "markdown",
   "metadata": {},
   "source": [
    "### Stratification function of the following variable (loan_amnt, funded_amnt, annual_inc, revol_bal)"
   ]
  },
  {
   "cell_type": "code",
   "execution_count": 115,
   "metadata": {},
   "outputs": [
    {
     "name": "stdout",
     "output_type": "stream",
     "text": [
      "5\n"
     ]
    }
   ],
   "source": [
    "import numbers\n",
    "def loan_amnt_strat(recei):    \n",
    "    try:\n",
    "        if(recei is None):\n",
    "            return 0\n",
    "        else:\n",
    "            val_str=float(recei)\n",
    "            val_comp=0.00\n",
    "            for itera in range(7):\n",
    "                if(val_str >= val_comp and val_str < (val_comp+5001.00)): \n",
    "                    return itera+1\n",
    "                val_comp+=5000.00\n",
    "            return 0\n",
    "    except ValueError: \n",
    "        return 0\n",
    "def funded_amnt_strat(recei):\n",
    "    try:\n",
    "        if(recei is None):\n",
    "            return 0\n",
    "        else:\n",
    "            val_str=float(recei)\n",
    "            val_comp=0.00\n",
    "            for itera in range(7):\n",
    "                if(val_str >= val_comp and val_str < (val_comp+5001.00)): \n",
    "                    return itera+1\n",
    "                val_comp+=5000.00\n",
    "            return 0\n",
    "    except ValueError: \n",
    "        return 0\n",
    "def annual_inc_strat(recei):\n",
    "    try:\n",
    "        if(recei is None):\n",
    "            return 0\n",
    "        else:\n",
    "            val_str=float(recei)\n",
    "            val_comp=0.00\n",
    "            for itera in range(105):\n",
    "                if(val_str >= val_comp and val_str < (val_comp+5001.00)): \n",
    "                    return itera+1\n",
    "                val_comp+=5000.00\n",
    "            return 0\n",
    "    except ValueError: \n",
    "        return 0\n",
    "def revol_bal_strat(receiy):\n",
    "    try:\n",
    "        if(receiy is None):\n",
    "            return 0\n",
    "        else:\n",
    "            val_str=float(receiy)\n",
    "            val_comp=0.00\n",
    "            for itera in range(66):\n",
    "                if(val_str >= val_comp and val_str < (val_comp+2001.00)): \n",
    "                    return itera+1\n",
    "                val_comp+=2000.00\n",
    "            return 0\n",
    "    except ValueError: \n",
    "        return 0\n",
    "def revol_util_strat(receiy):\n",
    "    try:\n",
    "        if(receiy is None):\n",
    "            return 0\n",
    "        else:\n",
    "            val_str=float(receiy)\n",
    "            val_comp=0.00\n",
    "            for itera in range(66):\n",
    "                if(val_str >= val_comp and val_str < (val_comp+1001.00)): \n",
    "                    return itera+1\n",
    "                val_comp+=1000.00\n",
    "            return 0\n",
    "    except ValueError: \n",
    "        return 0\n",
    "def total_pymnt_strat(receiy):\n",
    "    try:\n",
    "        if(receiy is None):\n",
    "            return 0\n",
    "        else:\n",
    "            val_str=float(receiy)\n",
    "            val_comp=0.00\n",
    "            for itera in range(30):\n",
    "                if(val_str >= val_comp and val_str < (val_comp+2001.00)): \n",
    "                    return itera+1\n",
    "                val_comp+=2000.00\n",
    "            return 0\n",
    "    except ValueError: \n",
    "        return 0\n",
    "def total_pymnt_inv_strat(receiy):\n",
    "    try:\n",
    "        if(receiy is None):\n",
    "            return 0\n",
    "        else:\n",
    "            val_str=float(receiy)\n",
    "            val_comp=0.00\n",
    "            for itera in range(30):\n",
    "                if(val_str >= val_comp and val_str < (val_comp+2001.00)): \n",
    "                    return itera+1\n",
    "                val_comp+=2000.00\n",
    "            return 0\n",
    "    except ValueError: \n",
    "        return 0\n",
    "def total_rec_prncp_strat(receiy):\n",
    "    try:\n",
    "        if(receiy is None):\n",
    "            return 0\n",
    "        else:\n",
    "            val_str=float(receiy)\n",
    "            val_comp=0.00\n",
    "            for itera in range(14):\n",
    "                if(val_str >= val_comp and val_str < (val_comp+2501.00)): \n",
    "                    return itera+1\n",
    "                val_comp+=2500.00\n",
    "            return 0\n",
    "    except ValueError: \n",
    "        return 0\n",
    "def total_rec_int_strat(receiy):\n",
    "    try:\n",
    "        if(receiy is None):\n",
    "            return 0\n",
    "        else:\n",
    "            val_str=float(receiy)\n",
    "            val_comp=0.00\n",
    "            for itera in range(14):\n",
    "                if(val_str >= val_comp and val_str < (val_comp+2501.00)): \n",
    "                    return itera+1\n",
    "                val_comp+=2500.00\n",
    "            return 0\n",
    "    except ValueError: \n",
    "        return 0\n",
    "def int_rate_strat(receiy):\n",
    "    try:\n",
    "        if(receiy is None):\n",
    "            return 0\n",
    "        else:\n",
    "            val_str=float(receiy)\n",
    "            val_comp=0.00\n",
    "            for itera in range(16):\n",
    "                if(val_str >= val_comp and val_str < (val_comp+1.00)): \n",
    "                    return itera+1\n",
    "                val_comp+=1.00\n",
    "            return 0\n",
    "    except ValueError: \n",
    "        return 0\n",
    "def dti_strat(receiy):\n",
    "    try:\n",
    "        if(receiy is None):\n",
    "            return 0\n",
    "        else:\n",
    "            val_str=float(receiy)\n",
    "            val_comp=0.00\n",
    "            for itera in range(20):\n",
    "                if(val_str >= val_comp and val_str < (val_comp+5.00)): \n",
    "                    return itera+1\n",
    "                val_comp+=5.00\n",
    "            return 0\n",
    "    except ValueError: \n",
    "        return 0\n",
    "def inq_last_6mths_strat(receiy):\n",
    "    try:\n",
    "        if(receiy is None):\n",
    "            return 0\n",
    "        else:\n",
    "            val_str=float(receiy)\n",
    "            val_comp=0.00\n",
    "            for itera in range(17):\n",
    "                if(val_str >= val_comp and val_str < (val_comp+2.00)): \n",
    "                    return itera+1\n",
    "                val_comp+=2.00\n",
    "            return 0\n",
    "    except ValueError: \n",
    "        return 0\n",
    "def pub_rec_strat(receiy):\n",
    "    try:\n",
    "        if(receiy is None):\n",
    "            return 0\n",
    "        else:\n",
    "            val_str=float(receiy)\n",
    "            val_comp=0.00\n",
    "            for itera in range(25):\n",
    "                if(val_str >= val_comp and val_str < (val_comp+4.00)): \n",
    "                    return itera+1\n",
    "                val_comp+=4.00\n",
    "            return 0\n",
    "    except ValueError: \n",
    "        return 0\n",
    "def total_acc_strat(receiy):\n",
    "    try:\n",
    "        if(receiy is None):\n",
    "            return 0\n",
    "        else:\n",
    "            val_str=float(receiy)\n",
    "            val_comp=0.00\n",
    "            for itera in range(40):\n",
    "                if(val_str >= val_comp and val_str < (val_comp+500.00)): \n",
    "                    return itera+1\n",
    "                val_comp+=500.00\n",
    "            return 0\n",
    "    except ValueError: \n",
    "        return 0\n",
    "print(total_acc_strat('2134.5'))"
   ]
  },
  {
   "cell_type": "markdown",
   "metadata": {},
   "source": [
    "### Decode Variables"
   ]
  },
  {
   "cell_type": "code",
   "execution_count": 116,
   "metadata": {},
   "outputs": [
    {
     "name": "stdout",
     "output_type": "stream",
     "text": [
      "[7500 - 10000]\n"
     ]
    }
   ],
   "source": [
    "def decode_variable(variable,value):\n",
    "    if(value is None or variable is None):\n",
    "        return 'No found'\n",
    "    else:\n",
    "        if(variable==\"loan_status_int\"):\n",
    "            if(value==1):\n",
    "                return 'Fully_Paid'\n",
    "            elif(value==2):\n",
    "                return 'Charged_Off'\n",
    "            elif(value==3):\n",
    "                return 'Current'\n",
    "            elif(value==4):\n",
    "                return 'Default'\n",
    "            elif(value==5):\n",
    "                return 'In_Grace_Period'\n",
    "            elif(value==6):\n",
    "                return 'Late_(31-120_days)'\n",
    "            else:\n",
    "                return 'No found'\n",
    "        elif(variable==\"term_int\"):\n",
    "            if(value==1):\n",
    "                return '36_months'\n",
    "            if(value==2):\n",
    "                return '60_months'\n",
    "        elif(variable==\"grade_int\"):\n",
    "            alfa = \"ABCDEFG\"\n",
    "            for ind,x in enumerate(alfa):\n",
    "                if((ind+1)==value):\n",
    "                    return x\n",
    "            return 'No_found'\n",
    "        elif(variable==\"su_grad_int\"):\n",
    "            alfa = \"ABCDEFG\"\n",
    "            numer = \"12345\"\n",
    "            count=1\n",
    "            for indx,x in enumerate(alfa):\n",
    "                for indy,y in enumerate(numer):\n",
    "                    if((count) == value):\n",
    "                        return x+y\n",
    "                    count+=1\n",
    "            return 'No_found'\n",
    "        elif(variable==\"homeowner_int\"):\n",
    "            if(value==1):\n",
    "                return 'MORTAGE'\n",
    "            elif(value==2):\n",
    "                return 'OWN'\n",
    "            elif(value==3):\n",
    "                return 'RENT'\n",
    "            else:\n",
    "                return 'No_found'        \n",
    "        elif(variable==\"veri_sta_int\"):\n",
    "            if(value==1):\n",
    "                return 'Not_Verified'\n",
    "            elif(value==2):\n",
    "                return 'Verified'\n",
    "            elif(value==3):\n",
    "                return 'Source_Verified'\n",
    "            else:\n",
    "                return 'No_found'        \n",
    "        elif(variable==\"purpose_int\"):\n",
    "            if(value==1):\n",
    "                return 'credit_card'\n",
    "            elif(value==2):\n",
    "                return 'debt_consolidation'\n",
    "            elif(value==3):\n",
    "                return 'home_improvement'\n",
    "            elif(value==4):\n",
    "                return 'house'\n",
    "            elif(value==5):\n",
    "                return 'major_purchase'\n",
    "            elif(value==6):\n",
    "                return 'medical'\n",
    "            elif(value==7):\n",
    "                return 'moving'\n",
    "            elif(value==8):\n",
    "                return 'other'\n",
    "            elif(value==9):\n",
    "                return 'renewable_energi'\n",
    "            elif(value==10):\n",
    "                return 'small_business'\n",
    "            elif(value==11):\n",
    "                return 'vacation'\n",
    "            elif(value==12):\n",
    "                return 'wedding'\n",
    "            elif(value==13):\n",
    "                return 'car'\n",
    "            else:\n",
    "                return 'No_found'  \n",
    "        elif(variable==\"emp_length_int\"):\n",
    "            if(value==1):\n",
    "                return \"< 1 year\"\n",
    "            elif(value==10):\n",
    "                return '10+ years'\n",
    "            else:\n",
    "                for item in range(2,10):\n",
    "                    if(item == value):\n",
    "                        return str(item)+\" years\"\n",
    "                return 'No_found'  \n",
    "        elif(variable==\"loan_amnt_strat\" or variable==\"funded_amnt_strat\"  \n",
    "             or variable==\"annual_inc_strat\" or variable==\"revol_bal_strat\"\n",
    "             or variable==\"revol_util_strat\" or variable==\"total_pymnt_strat\" \n",
    "             or variable==\"total_pymnt_inv_strat\"  or variable==\"total_rec_int_strat\" \n",
    "             or variable==\"total_rec_prncp_strat\"  or variable==\"total_acc_strat\"\n",
    "             or variable==\"int_rate_strat\"  or variable==\"dti_strat\"\n",
    "             or variable==\"inq_last_6mths_strat\"  or variable==\"pub_rec_strat\"\n",
    "             ):        \n",
    "            val_comp=0\n",
    "            max_value=0\n",
    "            incrementer=0\n",
    "            if(variable==\"loan_amnt_strat\" or variable==\"funded_amnt_strat\"):\n",
    "                max_value=7\n",
    "                incrementer=5000\n",
    "            elif(variable==\"annual_inc_strat\"):\n",
    "                max_value=105\n",
    "                incrementer=5000\n",
    "            elif(variable==\"revol_bal_strat\"):\n",
    "                max_value=66\n",
    "                incrementer=2000\n",
    "            elif(variable==\"revol_util_strat\"):\n",
    "                max_value=66\n",
    "                incrementer=1000\n",
    "            elif(variable==\"total_pymnt_strat\" or variable==\"total_pymnt_inv_strat\"):\n",
    "                max_value=30\n",
    "                incrementer=2000\n",
    "            elif(variable==\"total_rec_int_strat\" or variable==\"total_rec_prncp_strat\"):\n",
    "                max_value=14\n",
    "                incrementer=2500\n",
    "            elif(variable==\"int_rate_strat\"):\n",
    "                max_value=16\n",
    "                incrementer=1\n",
    "            elif(variable==\"dti_strat\"):\n",
    "                max_value=20\n",
    "                incrementer=5\n",
    "            elif(variable==\"inq_last_6mths_strat\"):\n",
    "                max_value=17\n",
    "                incrementer=2\n",
    "            elif(variable==\"pub_rec_strat\"):\n",
    "                max_value=25\n",
    "                incrementer=4\n",
    "            elif(variable==\"total_acc_strat\"):\n",
    "                max_value=40\n",
    "                incrementer=500\n",
    "            for item in range(max_value):\n",
    "                if(item==value):\n",
    "                    return \"[\"+str(val_comp)+\" - \"+str(val_comp+incrementer)+\"]\"\n",
    "                val_comp+=incrementer\n",
    "            return 'No_found'\n",
    "print(decode_variable(\"total_rec_prncp_strat\",3))\n"
   ]
  },
  {
   "cell_type": "markdown",
   "metadata": {},
   "source": [
    "### Stratific Big numerical Features"
   ]
  },
  {
   "cell_type": "code",
   "execution_count": 117,
   "metadata": {},
   "outputs": [],
   "source": [
    "# loan_amnt\n",
    "udfloan_amnt_strat = udf(loan_amnt_strat, IntegerType())\n",
    "datafilterloan = datafilterloan.withColumn(\"loan_amnt_strat\", udfloan_amnt_strat(\"loan_amnt\"))\n",
    "# funded_amnt\n",
    "udffunded_amnt_strat = udf(funded_amnt_strat, IntegerType())\n",
    "datafilterloan = datafilterloan.withColumn(\"funded_amnt_strat\", udffunded_amnt_strat(\"funded_amnt\"))\n",
    "# annual_inc\n",
    "udfannual_inc_strat = udf(annual_inc_strat, IntegerType())\n",
    "datafilterloan = datafilterloan.withColumn(\"annual_inc_strat\", udfannual_inc_strat(\"annual_inc\"))\n",
    "# revol_bal\n",
    "udfrevol_bal_strat = udf(revol_bal_strat, IntegerType())\n",
    "datafilterloan = datafilterloan.withColumn(\"revol_bal_strat\", udfrevol_bal_strat(\"revol_bal\"))\n",
    "# revol_util\n",
    "udfrevol_util_strat = udf(revol_util_strat, IntegerType())\n",
    "datafilterloan = datafilterloan.withColumn(\"revol_util_strat\", udfrevol_util_strat(\"revol_util\"))\n",
    "# total_pymnt 60000, cada 5000\n",
    "udftotal_pymnt_strat = udf(total_pymnt_strat, IntegerType())\n",
    "datafilterloan = datafilterloan.withColumn(\"total_pymnt_strat\", udftotal_pymnt_strat(\"total_pymnt\"))\n",
    "# total_pymnt_inv 60000, cada 5000\n",
    "udftotal_pymnt_inv_strat = udf(total_pymnt_inv_strat, IntegerType())\n",
    "datafilterloan = datafilterloan.withColumn(\"total_pymnt_inv_strat\", udftotal_pymnt_inv_strat(\"total_pymnt_inv\"))\n",
    "# total_rec_prncp 35000, cada 2500\n",
    "udftotal_rec_prncp_strat = udf(total_rec_prncp_strat, IntegerType())\n",
    "datafilterloan = datafilterloan.withColumn(\"total_rec_prncp_strat\", udftotal_rec_prncp_strat(\"total_rec_prncp\"))\n",
    "# total_rec_int 35000, cada 2500\n",
    "udftotal_rec_int_strat = udf(total_rec_int_strat, IntegerType())\n",
    "datafilterloan = datafilterloan.withColumn(\"total_rec_int_strat\", udftotal_rec_int_strat(\"total_rec_int\"))\n",
    "# int_rate 16, cada 1\n",
    "udfint_rate_strat = udf(int_rate_strat, IntegerType())\n",
    "datafilterloan = datafilterloan.withColumn(\"int_rate_strat\", udfint_rate_strat(\"int_rate\"))\n",
    "# dti 20, cada 5\n",
    "udfdti_strat = udf(dti_strat, IntegerType())\n",
    "datafilterloan = datafilterloan.withColumn(\"dti_strat\", udfdti_strat(\"dti\"))\n",
    "# inq_last_6mths 34, cada 2\n",
    "udfinq_last_6mths_strat = udf(inq_last_6mths_strat, IntegerType())\n",
    "datafilterloan = datafilterloan.withColumn(\"inq_last_6mths_strat\", udfinq_last_6mths_strat(\"inq_last_6mths\"))\n",
    "# pub_rec 100, cada 4\n",
    "udfpub_rec_strat = udf(pub_rec_strat, IntegerType())\n",
    "datafilterloan = datafilterloan.withColumn(\"pub_rec_strat\", udfpub_rec_strat(\"pub_rec\"))\n",
    "# total_acc 40, cada 500\n",
    "udftotal_acc_strat = udf(total_acc_strat, IntegerType())\n",
    "datafilterloan = datafilterloan.withColumn(\"total_acc_strat\", udftotal_acc_strat(\"total_acc\"))"
   ]
  },
  {
   "cell_type": "markdown",
   "metadata": {},
   "source": [
    "### Test of Stratificaties values"
   ]
  },
  {
   "cell_type": "code",
   "execution_count": 118,
   "metadata": {},
   "outputs": [
    {
     "name": "stdout",
     "output_type": "stream",
     "text": [
      "+---------------+-----------------+----------------+---------------+----------------+-----------------+---------------------+---------------------+-------------------+--------------+---------+--------------------+-------------+---------------+\n",
      "|loan_amnt_strat|funded_amnt_strat|annual_inc_strat|revol_bal_strat|revol_util_strat|total_pymnt_strat|total_pymnt_inv_strat|total_rec_prncp_strat|total_rec_int_strat|int_rate_strat|dti_strat|inq_last_6mths_strat|pub_rec_strat|total_acc_strat|\n",
      "+---------------+-----------------+----------------+---------------+----------------+-----------------+---------------------+---------------------+-------------------+--------------+---------+--------------------+-------------+---------------+\n",
      "|              1|                1|               5|              7|               1|                3|                    3|                    2|                  1|            11|        6|                   1|            1|              1|\n",
      "|              1|                1|               6|              1|               1|                1|                    1|                    1|                  1|            16|        1|                   3|            1|              1|\n",
      "|              1|                1|               3|              2|               1|                2|                    2|                    1|                  1|            16|        2|                   2|            1|              1|\n",
      "|              2|                2|              10|              3|               1|                7|                    7|                    4|                  1|            14|        5|                   1|            1|              1|\n",
      "|              1|                1|              16|             14|               1|                2|                    2|                    1|                  1|            13|        4|                   1|            1|              1|\n",
      "+---------------+-----------------+----------------+---------------+----------------+-----------------+---------------------+---------------------+-------------------+--------------+---------+--------------------+-------------+---------------+\n",
      "only showing top 5 rows\n",
      "\n"
     ]
    }
   ],
   "source": [
    "datafilterloan.select(\"loan_amnt_strat\",\"funded_amnt_strat\",\"annual_inc_strat\",\"revol_bal_strat\",\"revol_util_strat\",\"total_pymnt_strat\",\"total_pymnt_inv_strat\",\"total_rec_prncp_strat\",\"total_rec_int_strat\",\"int_rate_strat\",\"dti_strat\",\"inq_last_6mths_strat\",\"pub_rec_strat\",\"total_acc_strat\").show(5)"
   ]
  },
  {
   "cell_type": "markdown",
   "metadata": {},
   "source": [
    "### Clean Data Loan"
   ]
  },
  {
   "cell_type": "code",
   "execution_count": 119,
   "metadata": {},
   "outputs": [
    {
     "name": "stdout",
     "output_type": "stream",
     "text": [
      "+---------------+--------+---------+-----------+-------------+------------+-----------+--------------+---------------+-----------------+----------------+---------------+----------------+-----------------+---------------------+---------------------+-------------------+--------------+---------+--------------------+-------------+---------------+\n",
      "|loan_status_int|term_int|grade_int|su_grad_int|homeowner_int|veri_sta_int|purpose_int|emp_length_int|loan_amnt_strat|funded_amnt_strat|annual_inc_strat|revol_bal_strat|revol_util_strat|total_pymnt_strat|total_pymnt_inv_strat|total_rec_prncp_strat|total_rec_int_strat|int_rate_strat|dti_strat|inq_last_6mths_strat|pub_rec_strat|total_acc_strat|\n",
      "+---------------+--------+---------+-----------+-------------+------------+-----------+--------------+---------------+-----------------+----------------+---------------+----------------+-----------------+---------------------+---------------------+-------------------+--------------+---------+--------------------+-------------+---------------+\n",
      "|              1|       1|        2|          7|            3|           2|          1|            10|              1|                1|               5|              7|               1|                3|                    3|                    2|                  1|            11|        6|                   1|            1|              1|\n",
      "|              2|       2|        3|         14|            3|           3|         13|             1|              1|                1|               6|              1|               1|                1|                    1|                    1|                  1|            16|        1|                   3|            1|              1|\n",
      "|              1|       1|        3|         15|            3|           1|         10|            10|              1|                1|               3|              2|               1|                2|                    2|                    1|                  1|            16|        2|                   2|            1|              1|\n",
      "|              1|       1|        3|         11|            3|           3|          8|            10|              2|                2|              10|              3|               1|                7|                    7|                    4|                  1|            14|        5|                   1|            1|              1|\n",
      "|              3|       2|        2|         10|            3|           3|          8|             0|              1|                1|              16|             14|               1|                2|                    2|                    1|                  1|            13|        4|                   1|            1|              1|\n",
      "|              1|       1|        1|          4|            3|           3|         12|             3|              1|                1|               8|              4|               1|                3|                    3|                    2|                  1|             8|        3|                   2|            1|              1|\n",
      "|              3|       2|        3|         15|            3|           1|          2|             8|              2|                2|              10|              9|               1|                5|                    5|                    3|                  2|            16|        5|                   1|            1|              1|\n",
      "|              1|       1|        5|         21|            3|           3|         13|             9|              1|                1|              10|              5|               1|                2|                    2|                    2|                  1|             0|        2|                   2|            1|              1|\n",
      "|              2|       2|        6|         27|            2|           3|         10|             4|              2|                2|               8|              3|               1|                1|                    1|                    1|                  1|             0|        2|                   2|            1|              1|\n",
      "|              2|       2|        2|         10|            3|           2|          8|             1|              2|                2|               3|              5|               1|                1|                    1|                    1|                  1|            13|        4|                   1|            1|              1|\n",
      "+---------------+--------+---------+-----------+-------------+------------+-----------+--------------+---------------+-----------------+----------------+---------------+----------------+-----------------+---------------------+---------------------+-------------------+--------------+---------+--------------------+-------------+---------------+\n",
      "only showing top 10 rows\n",
      "\n"
     ]
    }
   ],
   "source": [
    "cleandataloan=datafilterloan.select(\"loan_status_int\",\"term_int\",\"grade_int\",\"su_grad_int\",\"homeowner_int\",\"veri_sta_int\",\"purpose_int\",\"emp_length_int\",\"loan_amnt_strat\",\"funded_amnt_strat\",\"annual_inc_strat\",\"revol_bal_strat\",\"revol_util_strat\",\"total_pymnt_strat\",\"total_pymnt_inv_strat\",\"total_rec_prncp_strat\",\"total_rec_int_strat\",\"int_rate_strat\",\"dti_strat\",\"inq_last_6mths_strat\",\"pub_rec_strat\",\"total_acc_strat\")\n",
    "cleandataloan.show(10)"
   ]
  },
  {
   "cell_type": "markdown",
   "metadata": {},
   "source": [
    "# Analyze data"
   ]
  },
  {
   "cell_type": "markdown",
   "metadata": {},
   "source": [
    "## Descriptive Statistics"
   ]
  },
  {
   "cell_type": "markdown",
   "metadata": {},
   "source": [
    "## Here data set, I am going to split in Xtrain, Y train(loan_status)\n",
    "### Y train:\n",
    "* loan_status: \n",
    "### Xtrain:\n",
    "* loan_amnt: The listed amount of the loan applied for by the borrower. If at some point in time, the credit department reduces the loan amount, then it will be reflected in this value.\n",
    "* funded_amnt: The total amount funded by investors for that loan at that point in time.\n",
    "* term: The Number of payments on the loan. Values are in months and can be either 36 or 60.\n",
    "* grade: LC assigned loan grade\n",
    "* sub_grade: LC assigned loan subgrade\n",
    "* home_ownership: The home ownership status provided by the borrower during registration or obtained from the credit report. Our values are: RENT, OWN, MORTGAGE, OTHER\n",
    "* verification_status: The status of the loan during the listing period. Values: APPROVED, NOT_APPROVED.\n",
    "* purpose: A category provided by the borrower for the loan request. Values are: debt_consolidation, medical, home_improvement, renewable_energy, small_business, wedding, vacation, moving, house, car, major_purchase, credit_card, other\n",
    "* emp_length: Employment length in months. Possible values are whole numbers from 0 and higher. Null indicates not employed.\n",
    "* int_rate: Interest Rate on the loan\n",
    "* annual_inc: The annual income provided by the borrower during registration.\n",
    "* dti: The borrower's debt to income ratio, calculated using the monthly payments on the total debt obligations, excluding mortgage, divided by self-reported monthly income.\n",
    "* inq_last_6mths: information from the bureau last 6 months\n",
    "* pub_rec: it indicates risk and hurts your ability to qualify for credit, obligations that were not paid \n",
    "* revol_bal: sometimes a full payment doesn’t (or can’t) happen, The amount of credit you have versus the amount of credit you use is a factor in your credit score\n",
    "* revol_util: the amount of credit the borrower is using relative to all available revolving credit.\n",
    "* total_acc: The total Number of credit lines currently in the borrower's credit file\n",
    "* total_pymnt: The total payment currently\n",
    "* total_pymnt_inv: The total payment currently of investment\n",
    "* total_rec_prncp: \n",
    "* total_rec_int:  interest of recollect total."
   ]
  },
  {
   "cell_type": "markdown",
   "metadata": {},
   "source": [
    "## Descriptive Statistic"
   ]
  },
  {
   "cell_type": "markdown",
   "metadata": {},
   "source": [
    "### Test Balance of Class Loan Status"
   ]
  },
  {
   "cell_type": "code",
   "execution_count": 120,
   "metadata": {},
   "outputs": [
    {
     "name": "stdout",
     "output_type": "stream",
     "text": [
      "+---------------+------+\n",
      "|loan_status_int| count|\n",
      "+---------------+------+\n",
      "|              1|207723|\n",
      "|              6| 11591|\n",
      "|              3|601778|\n",
      "|              5|  6253|\n",
      "|              4|  1219|\n",
      "|              2| 45248|\n",
      "|              0| 13567|\n",
      "+---------------+------+\n",
      "\n"
     ]
    }
   ],
   "source": [
    "cleandataloan.groupby('loan_status_int').count().show()"
   ]
  },
  {
   "cell_type": "markdown",
   "metadata": {},
   "source": [
    "Here I can determine that data is concentrate in two labels in loan status:\n",
    "* 1: Fully Paid\n",
    "* 3: Current\n",
    "* 2: Charged Off"
   ]
  },
  {
   "cell_type": "code",
   "execution_count": 121,
   "metadata": {},
   "outputs": [
    {
     "name": "stdout",
     "output_type": "stream",
     "text": [
      "+-------+------------------+------------------+------------------+------------------+\n",
      "|summary|   loan_status_int|          term_int|         grade_int|       su_grad_int|\n",
      "+-------+------------------+------------------+------------------+------------------+\n",
      "|  count|            887379|            887379|            887379|            887379|\n",
      "|   mean|2.4896239374607694| 1.300045414642447| 2.798402937189183|11.959941580767632|\n",
      "| stddev| 1.005768502459213|0.4582776456114865|1.3125993531916076| 6.493018957756487|\n",
      "|    min|                 0|                 1|                 1|                 1|\n",
      "|    max|                 6|                 2|                 7|                35|\n",
      "+-------+------------------+------------------+------------------+------------------+\n",
      "\n",
      "+-------+------------------+------------------+------------------+------------------+\n",
      "|summary|     homeowner_int|      veri_sta_int|       purpose_int|    emp_length_int|\n",
      "+-------+------------------+------------------+------------------+------------------+\n",
      "|  count|            887379|            887379|            887379|            887379|\n",
      "|   mean| 1.401082288402137|2.0707758466224693|2.5263365484195592| 5.720394555201329|\n",
      "| stddev|1.4293618218431805|0.8166901906175495|2.2151747854895527|3.7861190875199098|\n",
      "|    min|                 0|                 0|                 0|                 0|\n",
      "|    max|                 3|                 3|                13|                10|\n",
      "+-------+------------------+------------------+------------------+------------------+\n",
      "\n",
      "+-------+------------------+------------------+------------------+-----------------+\n",
      "|summary|   loan_amnt_strat| funded_amnt_strat|  annual_inc_strat|  revol_bal_strat|\n",
      "+-------+------------------+------------------+------------------+-----------------+\n",
      "|  count|            887379|            887379|            887379|           887379|\n",
      "|   mean|3.3016873286386086|3.2995991566174094|15.055686465422328| 8.41287206481109|\n",
      "| stddev| 1.638707012651327|1.6378241933983295| 8.869439769700419|7.364636585357282|\n",
      "|    min|                 1|                 1|                 0|                0|\n",
      "|    max|                 7|                 7|               105|               66|\n",
      "+-------+------------------+------------------+------------------+-----------------+\n",
      "\n",
      "+-------+-------------------+------------------+---------------------+\n",
      "|summary|   revol_util_strat| total_pymnt_strat|total_pymnt_inv_strat|\n",
      "+-------+-------------------+------------------+---------------------+\n",
      "|  count|             887379|            887379|               887379|\n",
      "|   mean| 1.0002220020983144|  4.30410117886495|    4.286150562499225|\n",
      "| stddev|0.16553217354754637|3.9213697514521852|     3.90872875701831|\n",
      "|    min|                  0|                 0|                    0|\n",
      "|    max|                 63|                29|                   29|\n",
      "+-------+-------------------+------------------+---------------------+\n",
      "\n",
      "+-------+---------------------+-------------------+-----------------+\n",
      "|summary|total_rec_prncp_strat|total_rec_int_strat|   int_rate_strat|\n",
      "+-------+---------------------+-------------------+-----------------+\n",
      "|  count|               887379|             887379|           887379|\n",
      "|   mean|     2.81938946042221|  1.332690992236688|8.754393556755344|\n",
      "| stddev|   2.5671834912309643| 0.7802717068976606|5.637956379076788|\n",
      "|    min|                    0|                  0|                0|\n",
      "|    max|                   14|                 13|               16|\n",
      "+-------+---------------------+-------------------+-----------------+\n",
      "\n",
      "+-------+------------------+--------------------+-------------------+-------------------+\n",
      "|summary|         dti_strat|inq_last_6mths_strat|      pub_rec_strat|    total_acc_strat|\n",
      "+-------+------------------+--------------------+-------------------+-------------------+\n",
      "|  count|            887379|              887379|             887379|             887379|\n",
      "|   mean| 4.122390771023429|   1.187668403241456| 1.0042732586639982| 1.0003177898057087|\n",
      "| stddev|1.6751381185796894| 0.45228057332572313|0.09943503538166042|0.09247125840293825|\n",
      "|    min|                 0|                   0|                  0|                  0|\n",
      "|    max|                19|                  17|                 25|                 34|\n",
      "+-------+------------------+--------------------+-------------------+-------------------+\n",
      "\n"
     ]
    }
   ],
   "source": [
    "columns1=[\"loan_status_int\",\"term_int\",\"grade_int\",\"su_grad_int\"]\n",
    "columns2=[\"homeowner_int\",\"veri_sta_int\",\"purpose_int\",\"emp_length_int\"]\n",
    "columns3=[\"loan_amnt_strat\",\"funded_amnt_strat\",\"annual_inc_strat\",\"revol_bal_strat\"]\n",
    "columns4=[\"revol_util_strat\",\"total_pymnt_strat\",\"total_pymnt_inv_strat\"]\n",
    "columns5=[\"total_rec_prncp_strat\",\"total_rec_int_strat\",\"int_rate_strat\"]\n",
    "columns6=[\"dti_strat\",\"inq_last_6mths_strat\",\"pub_rec_strat\",\"total_acc_strat\"]\n",
    "cleandataloan.describe(columns1).show()\n",
    "cleandataloan.describe(columns2).show()\n",
    "cleandataloan.describe(columns3).show()\n",
    "cleandataloan.describe(columns4).show()\n",
    "cleandataloan.describe(columns5).show()\n",
    "cleandataloan.describe(columns6).show()"
   ]
  },
  {
   "cell_type": "markdown",
   "metadata": {},
   "source": [
    "Here, We can to test that not exist a stddev very high, so we can work with this data"
   ]
  },
  {
   "cell_type": "markdown",
   "metadata": {},
   "source": [
    "### Statistical Data"
   ]
  },
  {
   "cell_type": "code",
   "execution_count": 123,
   "metadata": {},
   "outputs": [
    {
     "name": "stdout",
     "output_type": "stream",
     "text": [
      "          Variable:                Mean Values\n",
      "        loan_status_int           Charged_Off\n",
      "               term_int           36_months\n",
      "              grade_int           B\n",
      "            su_grad_int           C1\n",
      "          homeowner_int           MORTAGE\n",
      "           veri_sta_int           Verified\n",
      "            purpose_int           debt_consolidation\n",
      "         emp_length_int           5 years\n",
      "        loan_amnt_strat           [15000 - 20000]\n",
      "      funded_amnt_strat           [15000 - 20000]\n",
      "       annual_inc_strat           [75000 - 80000]\n",
      "        revol_bal_strat           [16000 - 18000]\n",
      "       revol_util_strat           [1000 - 2000]\n",
      "      total_pymnt_strat           [8000 - 10000]\n",
      "  total_pymnt_inv_strat           [8000 - 10000]\n",
      "  total_rec_prncp_strat           [5000 - 7500]\n",
      "    total_rec_int_strat           [2500 - 5000]\n",
      "         int_rate_strat           [8 - 9]\n",
      "              dti_strat           [20 - 25]\n",
      "   inq_last_6mths_strat           [2 - 4]\n",
      "          pub_rec_strat           [4 - 8]\n",
      "        total_acc_strat           [500 - 1000]\n"
     ]
    }
   ],
   "source": [
    "import pyspark.mllib.stat as st\n",
    "columns=[\"loan_status_int\",\"term_int\",\"grade_int\",\"su_grad_int\",\"homeowner_int\",\"veri_sta_int\",\"purpose_int\",\"emp_length_int\",\"loan_amnt_strat\",\"funded_amnt_strat\",\"annual_inc_strat\",\"revol_bal_strat\",\"revol_util_strat\",\"total_pymnt_strat\",\"total_pymnt_inv_strat\",\"total_rec_prncp_strat\",\"total_rec_int_strat\",\"int_rate_strat\",\"dti_strat\",\"inq_last_6mths_strat\",\"pub_rec_strat\",\"total_acc_strat\"]\n",
    "numeric_rdd = cleandataloan.select(columns).rdd.map(lambda row: [e for e in row])\n",
    "mllib_stats = st.Statistics.colStats(numeric_rdd)\n",
    "print('          Variable:                Mean Values')\n",
    "for col, m in zip(columns,mllib_stats.mean()):\n",
    "    print(col.rjust(23) +\"           \"+decode_variable(col,int(m)))"
   ]
  },
  {
   "cell_type": "markdown",
   "metadata": {},
   "source": [
    "### Correlations between features"
   ]
  },
  {
   "cell_type": "markdown",
   "metadata": {},
   "source": [
    "Here only print those features that have a correlation coefficient greater than 0."
   ]
  },
  {
   "cell_type": "code",
   "execution_count": 124,
   "metadata": {},
   "outputs": [
    {
     "name": "stdout",
     "output_type": "stream",
     "text": [
      "grade_int-to-su_grad_int: 0.98\n",
      "su_grad_int-to-grade_int: 0.98\n",
      "loan_amnt_strat-to-funded_amnt_strat: 1.00\n",
      "funded_amnt_strat-to-loan_amnt_strat: 1.00\n",
      "total_pymnt_strat-to-total_pymnt_inv_strat: 1.00\n",
      "total_pymnt_strat-to-total_rec_prncp_strat: 0.96\n",
      "total_pymnt_strat-to-total_rec_int_strat: 0.61\n",
      "total_pymnt_inv_strat-to-total_pymnt_strat: 1.00\n",
      "total_pymnt_inv_strat-to-total_rec_prncp_strat: 0.96\n",
      "total_pymnt_inv_strat-to-total_rec_int_strat: 0.61\n",
      "total_rec_prncp_strat-to-total_pymnt_strat: 0.96\n",
      "total_rec_prncp_strat-to-total_pymnt_inv_strat: 0.96\n",
      "total_rec_int_strat-to-total_pymnt_strat: 0.61\n",
      "total_rec_int_strat-to-total_pymnt_inv_strat: 0.61\n"
     ]
    }
   ],
   "source": [
    "corrs = st.Statistics.corr(numeric_rdd)\n",
    "for i, el in enumerate(corrs > 0.5):\n",
    "    correlated = [(columns[j], corrs[i][j]) for j, e in enumerate(el) if e == 1.0 and j != i]\n",
    "    if len(correlated) > 0:\n",
    "        for e in correlated:\n",
    "            print('{0}-to-{1}: {2:.2f}'.format(columns[i], e[0], e[1]))"
   ]
  },
  {
   "cell_type": "markdown",
   "metadata": {},
   "source": [
    "Exist a lot features highle correlated, so I am going to drop them, only I am going to keep 1 of each row."
   ]
  },
  {
   "cell_type": "code",
   "execution_count": 133,
   "metadata": {},
   "outputs": [
    {
     "name": "stdout",
     "output_type": "stream",
     "text": [
      "+---------------+--------+---------+-------------+------------+-----------+--------------+---------------+----------------+---------------+----------------+-----------------+--------------+---------+--------------------+-------------+---------------+\n",
      "|loan_status_int|term_int|grade_int|homeowner_int|veri_sta_int|purpose_int|emp_length_int|loan_amnt_strat|annual_inc_strat|revol_bal_strat|revol_util_strat|total_pymnt_strat|int_rate_strat|dti_strat|inq_last_6mths_strat|pub_rec_strat|total_acc_strat|\n",
      "+---------------+--------+---------+-------------+------------+-----------+--------------+---------------+----------------+---------------+----------------+-----------------+--------------+---------+--------------------+-------------+---------------+\n",
      "|              1|       1|        2|            3|           2|          1|            10|              1|               5|              7|               1|                3|            11|        6|                   1|            1|              1|\n",
      "|              2|       2|        3|            3|           3|         13|             1|              1|               6|              1|               1|                1|            16|        1|                   3|            1|              1|\n",
      "|              1|       1|        3|            3|           1|         10|            10|              1|               3|              2|               1|                2|            16|        2|                   2|            1|              1|\n",
      "|              1|       1|        3|            3|           3|          8|            10|              2|              10|              3|               1|                7|            14|        5|                   1|            1|              1|\n",
      "|              3|       2|        2|            3|           3|          8|             0|              1|              16|             14|               1|                2|            13|        4|                   1|            1|              1|\n",
      "|              1|       1|        1|            3|           3|         12|             3|              1|               8|              4|               1|                3|             8|        3|                   2|            1|              1|\n",
      "|              3|       2|        3|            3|           1|          2|             8|              2|              10|              9|               1|                5|            16|        5|                   1|            1|              1|\n",
      "|              1|       1|        5|            3|           3|         13|             9|              1|              10|              5|               1|                2|             0|        2|                   2|            1|              1|\n",
      "|              2|       2|        6|            2|           3|         10|             4|              2|               8|              3|               1|                1|             0|        2|                   2|            1|              1|\n",
      "|              2|       2|        2|            3|           2|          8|             1|              2|               3|              5|               1|                1|            13|        4|                   1|            1|              1|\n",
      "+---------------+--------+---------+-------------+------------+-----------+--------------+---------------+----------------+---------------+----------------+-----------------+--------------+---------+--------------------+-------------+---------------+\n",
      "only showing top 10 rows\n",
      "\n"
     ]
    }
   ],
   "source": [
    "finallabel=[\"loan_status_int\",\"term_int\",\"grade_int\",\"homeowner_int\",\"veri_sta_int\",\"purpose_int\",\"emp_length_int\",\"loan_amnt_strat\",\"annual_inc_strat\",\"revol_bal_strat\",\"revol_util_strat\",\"total_pymnt_strat\",\"int_rate_strat\",\"dti_strat\",\"inq_last_6mths_strat\",\"pub_rec_strat\",\"total_acc_strat\"]\n",
    "finaldataloan=cleandataloan.select(finallabel)\n",
    "finaldataloan.show(10)"
   ]
  },
  {
   "cell_type": "markdown",
   "metadata": {},
   "source": [
    "### Visualization"
   ]
  },
  {
   "cell_type": "code",
   "execution_count": 126,
   "metadata": {},
   "outputs": [],
   "source": [
    "import matplotlib.pyplot as plt\n",
    "numerical=['loan_status_int','int_rate_strat','annual_inc_strat']\n",
    "data_sample = finaldataloan.sampleBy('loan_status_int', {1: 0.0002, 2: 0.0002, 3: 0.0002}).select(numerical)\n",
    "data_multi = dict([(elem, data_sample.select(elem).rdd.flatMap(lambda row: row).collect()) for elem in numerical])\n",
    "x1=data_multi['int_rate_strat']\n",
    "x2=data_multi['annual_inc_strat']\n",
    "y=data_multi['loan_status_int']"
   ]
  },
  {
   "cell_type": "code",
   "execution_count": 127,
   "metadata": {},
   "outputs": [
    {
     "data": {
      "image/png": "[encoded data removed]",
      "text/plain": [
       "<matplotlib.figure.Figure at 0x7f4fef221be0>"
      ]
     },
     "metadata": {},
     "output_type": "display_data"
    }
   ],
   "source": [
    "N = 50\n",
    "plt.scatter(x1, y, alpha=0.5)\n",
    "plt.scatter(x2, y, alpha=0.5)\n",
    "plt.title('Int Rate Vs Loan Status')\n",
    "plt.show()"
   ]
  },
  {
   "cell_type": "markdown",
   "metadata": {},
   "source": [
    "### Convert Data Set to Labeled Points"
   ]
  },
  {
   "cell_type": "markdown",
   "metadata": {},
   "source": [
    "A LabeledPoint is a MLlib structure that is used to train the machine learning\n",
    "models. It consists of two attributes: label and features"
   ]
  },
  {
   "cell_type": "markdown",
   "metadata": {},
   "source": [
    "#### Splitting into training and testing"
   ]
  },
  {
   "cell_type": "code",
   "execution_count": 131,
   "metadata": {},
   "outputs": [
    {
     "name": "stdout",
     "output_type": "stream",
     "text": [
      "+---------------+--------+---------+-------------+------------+-----------+--------------+---------------+----------------+---------------+----------------+-----------------+--------------+---------+--------------------+-------------+---------------+\n",
      "|loan_status_int|term_int|grade_int|homeowner_int|veri_sta_int|purpose_int|emp_length_int|loan_amnt_strat|annual_inc_strat|revol_bal_strat|revol_util_strat|total_pymnt_strat|int_rate_strat|dti_strat|inq_last_6mths_strat|pub_rec_strat|total_acc_strat|\n",
      "+---------------+--------+---------+-------------+------------+-----------+--------------+---------------+----------------+---------------+----------------+-----------------+--------------+---------+--------------------+-------------+---------------+\n",
      "|              0|       1|        1|            0|           1|          1|             3|              3|              28|              0|               1|                8|             8|        4|                   1|            1|              1|\n",
      "|              0|       1|        1|            0|           1|          1|             7|              3|              15|              5|               1|                6|             9|        2|                   1|            1|              1|\n",
      "|              0|       1|        1|            0|           1|          2|             0|              1|               9|             58|               1|                3|             8|        5|                   1|            1|              1|\n",
      "|              0|       1|        1|            0|           1|          2|             4|              3|              18|              3|               1|                6|             7|        5|                   1|            1|              1|\n",
      "|              0|       1|        1|            0|           1|          2|             6|              2|              16|              5|               1|                6|             8|        4|                   3|            1|              1|\n",
      "+---------------+--------+---------+-------------+------------+-----------+--------------+---------------+----------------+---------------+----------------+-----------------+--------------+---------+--------------------+-------------+---------------+\n",
      "only showing top 5 rows\n",
      "\n"
     ]
    }
   ],
   "source": [
    "loan_train, loan_test = finaldataloan.randomSplit([0.7, 0.3])\n",
    "loan_train.show(5)"
   ]
  },
  {
   "cell_type": "markdown",
   "metadata": {},
   "source": [
    "#### Predicting Loan Status"
   ]
  },
  {
   "cell_type": "code",
   "execution_count": 132,
   "metadata": {},
   "outputs": [],
   "source": [
    "import pyspark.ml.classification as cl\n",
    "import pyspark.ml.feature as ft\n",
    "from pyspark.ml import Pipeline\n",
    "import pyspark.sql.types as typ"
   ]
  },
  {
   "cell_type": "code",
   "execution_count": null,
   "metadata": {},
   "outputs": [],
   "source": [
    "inputlabel=[\"term_int\",\"grade_int\",\"homeowner_int\",\"veri_sta_int\",\"purpose_int\",\"emp_length_int\",\"loan_amnt_strat\",\"annual_inc_strat\",\"revol_bal_strat\",\"revol_util_strat\",\"total_pymnt_strat\",\"int_rate_strat\",\"dti_strat\",\"inq_last_6mths_strat\",\"pub_rec_strat\",\"total_acc_strat\"]\n",
    "outputlabel=[\"loan_status_int\"]\n",
    "\n",
    "featuresCreator = ft.VectorAssembler(inputlabel,outputCol='features')\n",
    "\n",
    "logistic = cl.LogisticRegression(maxIter=10,regParam=0.01,labelCol='loan_status_int')\n",
    "pipeline = Pipeline(stages=[encoder,featuresCreator,logistic])"
   ]
  }
 ],
 "metadata": {
  "kernelspec": {
   "display_name": "Python 3",
   "language": "python",
   "name": "python3"
  },
  "language_info": {
   "codemirror_mode": {
    "name": "ipython",
    "version": 3
   },
   "file_extension": ".py",
   "mimetype": "text/x-python",
   "name": "python",
   "nbconvert_exporter": "python",
   "pygments_lexer": "ipython3",
   "version": "3.5.2"
  }
 },
 "nbformat": 4,
 "nbformat_minor": 2
}
