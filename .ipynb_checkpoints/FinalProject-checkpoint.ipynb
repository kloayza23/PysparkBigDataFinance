{
 "cells": [
  {
   "cell_type": "markdown",
   "metadata": {},
   "source": [
    "## Final Project of Big Data"
   ]
  },
  {
   "cell_type": "markdown",
   "metadata": {},
   "source": [
    "## Import Libraries"
   ]
  },
  {
   "cell_type": "code",
   "execution_count": 1,
   "metadata": {},
   "outputs": [],
   "source": [
    "import pyspark\n",
    "from pyspark import SparkContext\n",
    "from pyspark.sql import SQLContext\n",
    "#sc = SparkContext('local', 'pyspark') \n",
    "sqlContext = SQLContext(sc)"
   ]
  },
  {
   "cell_type": "markdown",
   "metadata": {},
   "source": [
    "## Load Data Set"
   ]
  },
  {
   "cell_type": "code",
   "execution_count": 2,
   "metadata": {},
   "outputs": [],
   "source": [
    "loadPath = \"../dataset/lending/loan.csv\"\n",
    "dataload = sqlContext.read.csv(loadPath, header='true')\n",
    "dataload.createOrReplaceTempView(\"loancredit\")\n",
    "#dataload.cache()"
   ]
  },
  {
   "cell_type": "markdown",
   "metadata": {},
   "source": [
    "## Show Schema"
   ]
  },
  {
   "cell_type": "code",
   "execution_count": 4,
   "metadata": {},
   "outputs": [
    {
     "name": "stdout",
     "output_type": "stream",
     "text": [
      "root\n",
      " |-- id: string (nullable = true)\n",
      " |-- member_id: string (nullable = true)\n",
      " |-- loan_amnt: string (nullable = true)\n",
      " |-- funded_amnt: string (nullable = true)\n",
      " |-- funded_amnt_inv: string (nullable = true)\n",
      " |-- term: string (nullable = true)\n",
      " |-- int_rate: string (nullable = true)\n",
      " |-- installment: string (nullable = true)\n",
      " |-- grade: string (nullable = true)\n",
      " |-- sub_grade: string (nullable = true)\n",
      " |-- emp_title: string (nullable = true)\n",
      " |-- emp_length: string (nullable = true)\n",
      " |-- home_ownership: string (nullable = true)\n",
      " |-- annual_inc: string (nullable = true)\n",
      " |-- verification_status: string (nullable = true)\n",
      " |-- issue_d: string (nullable = true)\n",
      " |-- loan_status: string (nullable = true)\n",
      " |-- pymnt_plan: string (nullable = true)\n",
      " |-- url: string (nullable = true)\n",
      " |-- desc: string (nullable = true)\n",
      " |-- purpose: string (nullable = true)\n",
      " |-- title: string (nullable = true)\n",
      " |-- zip_code: string (nullable = true)\n",
      " |-- addr_state: string (nullable = true)\n",
      " |-- dti: string (nullable = true)\n",
      " |-- delinq_2yrs: string (nullable = true)\n",
      " |-- earliest_cr_line: string (nullable = true)\n",
      " |-- inq_last_6mths: string (nullable = true)\n",
      " |-- mths_since_last_delinq: string (nullable = true)\n",
      " |-- mths_since_last_record: string (nullable = true)\n",
      " |-- open_acc: string (nullable = true)\n",
      " |-- pub_rec: string (nullable = true)\n",
      " |-- revol_bal: string (nullable = true)\n",
      " |-- revol_util: string (nullable = true)\n",
      " |-- total_acc: string (nullable = true)\n",
      " |-- initial_list_status: string (nullable = true)\n",
      " |-- out_prncp: string (nullable = true)\n",
      " |-- out_prncp_inv: string (nullable = true)\n",
      " |-- total_pymnt: string (nullable = true)\n",
      " |-- total_pymnt_inv: string (nullable = true)\n",
      " |-- total_rec_prncp: string (nullable = true)\n",
      " |-- total_rec_int: string (nullable = true)\n",
      " |-- total_rec_late_fee: string (nullable = true)\n",
      " |-- recoveries: string (nullable = true)\n",
      " |-- collection_recovery_fee: string (nullable = true)\n",
      " |-- last_pymnt_d: string (nullable = true)\n",
      " |-- last_pymnt_amnt: string (nullable = true)\n",
      " |-- next_pymnt_d: string (nullable = true)\n",
      " |-- last_credit_pull_d: string (nullable = true)\n",
      " |-- collections_12_mths_ex_med: string (nullable = true)\n",
      " |-- mths_since_last_major_derog: string (nullable = true)\n",
      " |-- policy_code: string (nullable = true)\n",
      " |-- application_type: string (nullable = true)\n",
      " |-- annual_inc_joint: string (nullable = true)\n",
      " |-- dti_joint: string (nullable = true)\n",
      " |-- verification_status_joint: string (nullable = true)\n",
      " |-- acc_now_delinq: string (nullable = true)\n",
      " |-- tot_coll_amt: string (nullable = true)\n",
      " |-- tot_cur_bal: string (nullable = true)\n",
      " |-- open_acc_6m: string (nullable = true)\n",
      " |-- open_il_6m: string (nullable = true)\n",
      " |-- open_il_12m: string (nullable = true)\n",
      " |-- open_il_24m: string (nullable = true)\n",
      " |-- mths_since_rcnt_il: string (nullable = true)\n",
      " |-- total_bal_il: string (nullable = true)\n",
      " |-- il_util: string (nullable = true)\n",
      " |-- open_rv_12m: string (nullable = true)\n",
      " |-- open_rv_24m: string (nullable = true)\n",
      " |-- max_bal_bc: string (nullable = true)\n",
      " |-- all_util: string (nullable = true)\n",
      " |-- total_rev_hi_lim: string (nullable = true)\n",
      " |-- inq_fi: string (nullable = true)\n",
      " |-- total_cu_tl: string (nullable = true)\n",
      " |-- inq_last_12m: string (nullable = true)\n",
      "\n"
     ]
    }
   ],
   "source": [
    "dataload.printSchema()"
   ]
  },
  {
   "cell_type": "code",
   "execution_count": 11,
   "metadata": {},
   "outputs": [
    {
     "data": {
      "text/plain": [
       "887379"
      ]
     },
     "execution_count": 11,
     "metadata": {},
     "output_type": "execute_result"
    }
   ],
   "source": [
    "dataload.count()"
   ]
  },
  {
   "cell_type": "markdown",
   "metadata": {},
   "source": [
    "# Clean data"
   ]
  },
  {
   "cell_type": "markdown",
   "metadata": {},
   "source": [
    "## Check for duplications"
   ]
  },
  {
   "cell_type": "code",
   "execution_count": 8,
   "metadata": {},
   "outputs": [
    {
     "name": "stdout",
     "output_type": "stream",
     "text": [
      "Count of rows: 887379\n",
      "Count of distinct rows: 887379\n"
     ]
    }
   ],
   "source": [
    "print('Count of rows: {0}'.format(dataload.count()))\n",
    "print('Count of distinct rows: {0}'.format(dataload.distinct().count()))"
   ]
  },
  {
   "cell_type": "markdown",
   "metadata": {},
   "source": [
    "The amount of rows is same, so not exist duplicate data"
   ]
  },
  {
   "cell_type": "markdown",
   "metadata": {},
   "source": [
    "## Missing observations"
   ]
  },
  {
   "cell_type": "code",
   "execution_count": 7,
   "metadata": {
    "scrolled": true
   },
   "outputs": [
    {
     "name": "stdout",
     "output_type": "stream",
     "text": [
      "+-----------+-------+-------+----------+-----+------+-------+---------------+--------------+--------------------+----------+--------+----------+-----+--------------+--------+-------+---------+----------+---------+-------------+---------------+--------+---------+---------------+------------+\n",
      "|loan_status| lo_mnt|fun_mnt|      term|grade|s_grad|hom_own|      verfi_sta|       purpose|               title|emp_length|int_rate|annual_inc|  dti|inq_last_6mths|open_acc|pub_rec|revol_bal|revol_util|total_acc|  total_pymnt|total_pymnt_inv|TotRecPy|TotRecInt|last_pymnt_amnt|last_pymnt_d|\n",
      "+-----------+-------+-------+----------+-----+------+-------+---------------+--------------+--------------------+----------+--------+----------+-----+--------------+--------+-------+---------+----------+---------+-------------+---------------+--------+---------+---------------+------------+\n",
      "| Fully Paid| 5000.0| 5000.0| 36 months|    B|    B2|   RENT|       Verified|   credit_card|            Computer| 10+ years|   10.65|   24000.0|27.65|           1.0|     3.0|    0.0|  13648.0|      83.7|      9.0|5861.07141425|        5831.78|  5000.0|   861.07|         171.62|    Jan-2015|\n",
      "|Charged Off| 2500.0| 2500.0| 60 months|    C|    C4|   RENT|Source Verified|           car|                bike|  < 1 year|   15.27|   30000.0|  1.0|           5.0|     3.0|    0.0|   1687.0|       9.4|      4.0|      1008.71|        1008.71|  456.46|   435.17|         119.66|    Apr-2013|\n",
      "| Fully Paid| 2400.0| 2400.0| 36 months|    C|    C5|   RENT|   Not Verified|small_business|real estate business| 10+ years|   15.96|   12252.0| 8.72|           2.0|     2.0|    0.0|   2956.0|      98.5|     10.0|3003.65364445|        3003.65|  2400.0|   603.65|         649.91|    Jun-2014|\n",
      "| Fully Paid|10000.0|10000.0| 36 months|    C|    C1|   RENT|Source Verified|         other|            personel| 10+ years|   13.49|   49200.0| 20.0|           1.0|    10.0|    0.0|   5598.0|      21.0|     37.0|12226.3022123|        12226.3| 10000.0|  2209.33|         357.48|    Jan-2015|\n",
      "|    Current| 3000.0| 3000.0| 60 months|    B|    B5|   RENT|Source Verified|         other|            Personal|    1 year|   12.69|   80000.0|17.94|           0.0|    15.0|    0.0|  27783.0|      53.9|     38.0|      3242.17|        3242.17|  2233.1|  1009.07|          67.79|    Jan-2016|\n",
      "+-----------+-------+-------+----------+-----+------+-------+---------------+--------------+--------------------+----------+--------+----------+-----+--------------+--------+-------+---------+----------+---------+-------------+---------------+--------+---------+---------------+------------+\n",
      "only showing top 5 rows\n",
      "\n"
     ]
    }
   ],
   "source": [
    "datafilterloan = sqlContext.sql(\"select loan_status,loan_amnt as lo_mnt,funded_amnt as fun_mnt,term,grade,sub_grade as s_grad,home_ownership as hom_own,verification_status as verfi_sta,purpose,title,emp_length,int_rate,annual_inc,dti,inq_last_6mths,open_acc,pub_rec,revol_bal,revol_util,total_acc,total_pymnt,total_pymnt_inv,total_rec_prncp as TotRecPy,total_rec_int as TotRecInt,last_pymnt_amnt,last_pymnt_d from loancredit\")\n",
    "#datafilterloan_1=sqlContext.sql(\"select loan_status,loan_amnt as lo_mnt,funded_amnt as fun_mnt,term,grade,sub_grade as s_grad,home_ownership as hom_own,verification_status as verfi_sta,purpose from loancredit\")\n",
    "#sqlContext.sql(\"select loan_status,loan_amnt as lo_mnt,funded_amnt as fun_mnt,term,grade,sub_grade as s_grad,home_ownership as hom_own,verification_status as verfi_sta,purpose from loancredit\").show(5)\n",
    "#datafilterloan_2=sqlContext.sql(\"select loan_status,title,emp_length,int_rate,annual_inc,dti,inq_last_6mths,open_acc,pub_rec,revol_bal from loancredit\")\n",
    "#sqlContext.sql(\"select loan_status,title,emp_length,int_rate,annual_inc,dti,inq_last_6mths,open_acc,pub_rec,revol_bal from loancredit\").show(5)\n",
    "#datafilterloan_3=sqlContext.sql(\"select loan_status,revol_util,total_acc,total_pymnt,total_pymnt_inv,total_rec_prncp as TotRecPy,total_rec_int as TotRecInt,last_pymnt_amnt,last_pymnt_d from loancredit\")\n",
    "#sqlContext.sql(\"select loan_status,revol_util,total_acc,total_pymnt,total_pymnt_inv,total_rec_prncp as TotRecPy,total_rec_int as TotRecInt,last_pymnt_amnt,last_pymnt_d from loancredit\").show(5)\n",
    "datafilterloan.show(5)"
   ]
  },
  {
   "cell_type": "markdown",
   "metadata": {},
   "source": [
    "### Discretization: Convert the categorical variable in numeric variable.\n",
    "### Conversion of the following variable:\n",
    "* loan_status\n",
    "* term\n",
    "* grade\n",
    "* sub_grade\n",
    "* home_ownership\n",
    "* verification_status\n",
    "* purpose\n",
    "* title"
   ]
  },
  {
   "cell_type": "markdown",
   "metadata": {},
   "source": [
    "## Convertion of loan_status"
   ]
  },
  {
   "cell_type": "markdown",
   "metadata": {},
   "source": [
    "### Encoding(Loan Status, term, grade, sub_grade, home_ownership, verification_status, purpose, title)"
   ]
  },
  {
   "cell_type": "code",
   "execution_count": 56,
   "metadata": {},
   "outputs": [
    {
     "name": "stdout",
     "output_type": "stream",
     "text": [
      "2\n"
     ]
    }
   ],
   "source": [
    "def loan_status_transformer(cat):\n",
    "    if(cat == 'Fully Paid'): \n",
    "        return 1\n",
    "    elif(cat == 'Charged Off'): \n",
    "        return 2\n",
    "    elif(cat == 'Current'): \n",
    "        return 3\n",
    "    elif(cat == 'Default'): \n",
    "        return 4\n",
    "    elif(cat == 'In Grace Period'): \n",
    "        return 5\n",
    "    elif(cat == 'Late (31-120 days)'): \n",
    "        return 6\n",
    "    else:\n",
    "        return 0\n",
    "def term_transformer(cat):\n",
    "    if(cat.strip() == ' 60 months'): \n",
    "        return 60\n",
    "    elif(cat.strip() == '36 months'): \n",
    "        return 36\n",
    "def grade_transformer(cat):\n",
    "    for ind,x in enumerate(alfa):\n",
    "        if(x==cat):\n",
    "            return ind    \n",
    "def subgrade_transformer(cat):\n",
    "    alfa = \"ABCDEFG\"\n",
    "    numer = \"12345\"\n",
    "    for indx,x in enumerate(alfa):\n",
    "        for indy,y in enumerate(numer):\n",
    "            if(x+y == cat.strip()):\n",
    "                return int(str(indx) + str(indy))\n",
    "    return 0\n",
    "def hoow_transformer(cat):\n",
    "    if(cat.strip() == 'MORTAGE'): \n",
    "        return 0\n",
    "    elif(cat.strip() == 'OWN'): \n",
    "        return 1\n",
    "    elif(cat.strip() == 'RENT'): \n",
    "        return 2\n",
    "def verst_transformer(cat):\n",
    "    if(cat.strip() == 'Not Verified'): \n",
    "        return 0\n",
    "    elif(cat.strip() == 'Verified'): \n",
    "        return 1\n",
    "    elif(cat.strip() == 'Source Verified'): \n",
    "        return 2\n",
    "def purp_transformer(cat):\n",
    "    if(cat.strip() == 'car'): \n",
    "        return 0\n",
    "    elif(cat.strip() == 'credit_card'): \n",
    "        return 1\n",
    "    elif(cat.strip() == 'debt_consolidation'): \n",
    "        return 2\n",
    "    elif(cat.strip() == 'home_improvement'): \n",
    "        return 2\n",
    "    elif(cat.strip() == 'house'): \n",
    "        return 2\n",
    "    elif(cat.strip() == 'major_purchase'): \n",
    "        return 2\n",
    "    elif(cat.strip() == 'medical'): \n",
    "        return 2\n",
    "    elif(cat.strip() == 'moving'): \n",
    "        return 2\n",
    "    elif(cat.strip() == 'other'): \n",
    "        return 2\n",
    "    elif(cat.strip() == 'renewable_energi'): \n",
    "        return 2\n",
    "    elif(cat.strip() == 'small_business'): \n",
    "        return 2\n",
    "    elif(cat.strip() == 'vacation'): \n",
    "        return 2\n",
    "    elif(cat.strip() == 'wedding'): \n",
    "        return 2\n",
    "\n",
    "print(hoow_transformer('RENT'))"
   ]
  },
  {
   "cell_type": "code",
   "execution_count": 55,
   "metadata": {},
   "outputs": [],
   "source": [
    "import pyspark.ml.feature as ft\n",
    "import pyspark.sql.types as typ\n",
    "import numpy as np\n",
    "from pyspark.sql.functions import udf\n",
    "from pyspark.sql.types import *"
   ]
  },
  {
   "cell_type": "markdown",
   "metadata": {},
   "source": [
    "### Convert variable categorial to numerical"
   ]
  },
  {
   "cell_type": "code",
   "execution_count": 25,
   "metadata": {},
   "outputs": [
    {
     "name": "stdout",
     "output_type": "stream",
     "text": [
      "+---------------+\n",
      "|loan_status_int|\n",
      "+---------------+\n",
      "|              1|\n",
      "|              2|\n",
      "|              1|\n",
      "+---------------+\n",
      "only showing top 3 rows\n",
      "\n"
     ]
    }
   ],
   "source": [
    "# loan_status\n",
    "udfloan_status_transformer = udf(loan_status_transformer, IntegerType())\n",
    "datafilterloan = datafilterloan.withColumn(\"loan_status_int\", udfloan_status_transformer(\"loan_status\"))\n",
    "# term\n",
    "udfterm_transformer = udf(term_transformer, IntegerType())\n",
    "datafilterloan = datafilterloan.withColumn(\"term_int\", udfterm_transformer(\"term\"))\n",
    "# grade\n",
    "udfgrade_transformer = udf(grade_transformer, IntegerType())\n",
    "datafilterloan = datafilterloan.withColumn(\"grade_int\", udfgrade_transformer(\"grade\"))\n",
    "# sub_grade\n",
    "udfterm_transformer = udf(subgrade_transformer, IntegerType())\n",
    "datafilterloan = datafilterloan.withColumn(\"term_int\", udfterm_transformer(\"term\"))\n",
    "# home_ownership\n",
    "udfhoow_transformer = udf(hoow_transformer, IntegerType())\n",
    "datafilterloan = datafilterloan.withColumn(\"homeowner_int\", udfhoow_transformer(\"home_ownership\"))\n",
    "# verification_status\n",
    "udfhoow_transformer = udf(verst_transformer, IntegerType())\n",
    "datafilterloan = datafilterloan.withColumn(\"homeowner_int\", udfhoow_transformer(\"home_ownership\"))\n",
    "# purpose\n",
    "udfhoow_transformer = udf(purp_transformer, IntegerType())\n",
    "datafilterloan = datafilterloan.withColumn(\"homeowner_int\", udfhoow_transformer(\"home_ownership\"))"
   ]
  },
  {
   "cell_type": "code",
   "execution_count": 31,
   "metadata": {},
   "outputs": [
    {
     "name": "stdout",
     "output_type": "stream",
     "text": [
      "a\n",
      "b\n",
      "c\n",
      "d\n",
      "e\n",
      "f\n",
      "g\n",
      "h\n",
      "i\n",
      "j\n",
      "k\n",
      "l\n",
      "m\n",
      "n\n",
      "o\n",
      "p\n",
      "q\n",
      "r\n",
      "s\n",
      "t\n",
      "u\n",
      "v\n",
      "w\n",
      "x\n",
      "y\n",
      "z\n"
     ]
    }
   ],
   "source": []
  },
  {
   "cell_type": "markdown",
   "metadata": {},
   "source": [
    "## Stratification: Put values in range.\n",
    "   ### Strat the following variable:\n",
    "\n",
    "* emp_length\n"
   ]
  },
  {
   "cell_type": "markdown",
   "metadata": {},
   "source": [
    "Fill with mean the missing values"
   ]
  },
  {
   "cell_type": "markdown",
   "metadata": {},
   "source": [
    "# Analyze data"
   ]
  },
  {
   "cell_type": "markdown",
   "metadata": {},
   "source": [
    "## Descriptive Statistics"
   ]
  },
  {
   "cell_type": "markdown",
   "metadata": {},
   "source": [
    "## Here data set, I am going to split in Xtrain, Y train(loan_status)\n",
    "### Y train:\n",
    "* loan_status\n",
    "### Xtrain:\n",
    "* loan_amnt  \n",
    "* funded_amnt\n",
    "* term\n",
    "* grade\n",
    "* sub_grade\n",
    "* home_ownership\n",
    "* verification_status\n",
    "* purpose\n",
    "* title: \n",
    "* emp_length\n",
    "* int_rate\n",
    "* annual_inc\n",
    "* dti\n",
    "* inq_last_6mths: information from the bureau last 6 months\n",
    "* open_acc: The Number of open credit lines in the borrower's credit file.\n",
    "* pub_rec: it indicates risk and hurts your ability to qualify for credit, obligations that were not paid \n",
    "* revol_bal: sometimes a full payment doesn’t (or can’t) happen, The amount of credit you have versus the amount of credit you use is a factor in your credit score\n",
    "* revol_util: the amount of credit the borrower is using relative to all available revolving credit.\n",
    "* total_acc: The total Number of credit lines currently in the borrower's credit file\n",
    "* total_pymnt: The total payment currently\n",
    "* total_pymnt_inv: The total payment currently of investment\n",
    "* total_rec_prncp: \n",
    "* total_rec_int:  interest of recollect total.\n",
    "* last_pymnt_amnt: amount of last payment\n",
    "* last_pymnt_d: data of last payment"
   ]
  },
  {
   "cell_type": "markdown",
   "metadata": {},
   "source": [
    "## Descriptive Statistic"
   ]
  },
  {
   "cell_type": "markdown",
   "metadata": {},
   "source": [
    "## Outliers"
   ]
  },
  {
   "cell_type": "code",
   "execution_count": null,
   "metadata": {},
   "outputs": [],
   "source": [
    "cols = ['loan_status','loan_amnt','funded_amnt','term','grade','sub_grade','home_ownership','verification_status','purpose','title','emp_length','int_rate','annual_inc','dti','inq_last_6mths','open_acc','pub_rec','revol_bal','revol_util','total_acc','total_pymnt','total_pymnt_inv','total_rec_prncp as TotRecPy','total_rec_int as TotRecInt','last_pymnt_amnt','last_pymnt_d']\n",
    "bounds = {}\n",
    "for col in cols:\n",
    "    quantiles = datafilterloan.approxQuantile(col, [0.25, 0.75], 0.05)\n",
    "    IQR = quantiles[1] - quantiles[0]\n",
    "    bounds[col] = [quantiles[0] - 1.5 * IQR, quantiles[1] + 1.5 * IQR]"
   ]
  },
  {
   "cell_type": "code",
   "execution_count": null,
   "metadata": {},
   "outputs": [],
   "source": [
    "outliers = datafilterloan.select(*['id'] + [\n",
    "    (\n",
    "        (datafilterloan[c] < bounds[c][0]) | \n",
    "        (datafilterloan[c] > bounds[c][1])\n",
    "    ).alias(c + '_o') for c in cols\n",
    "])\n",
    "outliers.show()"
   ]
  },
  {
   "cell_type": "code",
   "execution_count": null,
   "metadata": {},
   "outputs": [],
   "source": [
    "datafilterloan = datafilterloan.join(outliers, on='id')\n",
    "datafilterloan.filter('weight_o').select('id', 'weight').show()\n",
    "datafilterloan.filter('age_o').select('id', 'age').show()"
   ]
  }
 ],
 "metadata": {
  "kernelspec": {
   "display_name": "Python 3",
   "language": "python",
   "name": "python3"
  },
  "language_info": {
   "codemirror_mode": {
    "name": "ipython",
    "version": 3
   },
   "file_extension": ".py",
   "mimetype": "text/x-python",
   "name": "python",
   "nbconvert_exporter": "python",
   "pygments_lexer": "ipython3",
   "version": "3.5.2"
  }
 },
 "nbformat": 4,
 "nbformat_minor": 2
}
