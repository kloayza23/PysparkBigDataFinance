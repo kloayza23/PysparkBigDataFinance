{
 "cells": [
  {
   "cell_type": "markdown",
   "metadata": {},
   "source": [
    "# Advance One of Big Data Project"
   ]
  },
  {
   "cell_type": "markdown",
   "metadata": {},
   "source": [
    "This advance contain the following outline:\n",
    "\n",
    "* Introduction\n",
    "* Load Data Set\n",
    "* Descriptive Statistics\n",
    "* Visualization"
   ]
  },
  {
   "cell_type": "markdown",
   "metadata": {},
   "source": [
    "# Introduction"
   ]
  },
  {
   "cell_type": "markdown",
   "metadata": {},
   "source": [
    "The purpose of this project is to use the techniques of Big Data, in this case the data set \"Death in the Unite State\", let to use tecniques of big data as hive, pig, data mining tools, in other.\n",
    "\n",
    "The data set determine life expectancy and understand how death in the U.S differs from the rest of the world. The data set is composed by 2 file type, csv and json, for this project only csv is going to be considered.\n",
    "\n",
    "But this advance of project definition, only the file 2015 data is going to be used."
   ]
  },
  {
   "cell_type": "markdown",
   "metadata": {},
   "source": [
    "# Load Data Set"
   ]
  },
  {
   "cell_type": "code",
   "execution_count": null,
   "metadata": {},
   "outputs": [],
   "source": [
    "from pandas import read_csv\n",
    "filename = '../dataset/csv/2015_data.csv'\n",
    "names = ['resident_status', 'education_1989_revision', 'education_2003_revision',\n",
    "         'education_reporting_flag', 'month_of_death', 'sex,detail_age_type', 'detail_age',\n",
    "         'age_substitution_flag', 'age_recode_52','age_recode_27','age_recode_12','infant_age_recode_22',\n",
    "         'place_of_death_and_decedents_status','marital_status','day_of_week_of_death',\n",
    "         'current_data_year','injury_at_work','manner_of_death','method_of_disposition',\n",
    "         'autopsy','activity_code','place_of_injury_for_causes_w00_y34_except_y06_and_y07_',\n",
    "         'icd_code_10th_revision','358_cause_recode','113_cause_recode','130_infant_cause_recode',\n",
    "         '39_cause_recode','number_of_entity_axis_conditions','entity_condition_1','entity_condition_2',\n",
    "         'entity_condition_3','entity_condition_4','entity_condition_5','entity_condition_6',\n",
    "         'entity_condition_7','entity_condition_8','entity_condition_9','']\n",
    "data = read_csv(filename, names=names)\n",
    "print(data.shape)"
   ]
  },
  {
   "cell_type": "markdown",
   "metadata": {},
   "source": [
    "# Descriptive Statistics"
   ]
  },
  {
   "cell_type": "markdown",
   "metadata": {},
   "source": [
    "# Visualization"
   ]
  },
  {
   "cell_type": "code",
   "execution_count": null,
   "metadata": {},
   "outputs": [],
   "source": []
  }
 ],
 "metadata": {
  "kernelspec": {
   "display_name": "Python 3",
   "language": "python",
   "name": "python3"
  },
  "language_info": {
   "codemirror_mode": {
    "name": "ipython",
    "version": 3
   },
   "file_extension": ".py",
   "mimetype": "text/x-python",
   "name": "python",
   "nbconvert_exporter": "python",
   "pygments_lexer": "ipython3",
   "version": "3.5.2"
  }
 },
 "nbformat": 4,
 "nbformat_minor": 2
}
