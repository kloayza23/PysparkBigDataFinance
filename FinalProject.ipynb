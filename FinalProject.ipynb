{
 "cells": [
  {
   "cell_type": "markdown",
   "metadata": {},
   "source": [
    "## Final Project of Big Data"
   ]
  },
  {
   "cell_type": "markdown",
   "metadata": {},
   "source": [
    "## Import Libraries"
   ]
  },
  {
   "cell_type": "code",
   "execution_count": 1,
   "metadata": {},
   "outputs": [],
   "source": [
    "import pyspark\n",
    "from pyspark import SparkContext\n",
    "from pyspark.sql import SQLContext\n",
    "sc = SparkContext('local', 'pyspark') \n",
    "sqlContext = SQLContext(sc)"
   ]
  },
  {
   "cell_type": "markdown",
   "metadata": {},
   "source": [
    "## Load Data Set"
   ]
  },
  {
   "cell_type": "code",
   "execution_count": 114,
   "metadata": {},
   "outputs": [],
   "source": [
    "loadPath = \"../dataset/lending/loan.csv\"\n",
    "dataload = sqlContext.read.csv(loadPath, header='true')\n",
    "dataload.createOrReplaceTempView(\"loancredit\")\n",
    "#dataload.cache()"
   ]
  },
  {
   "cell_type": "markdown",
   "metadata": {},
   "source": [
    "## Show Schema"
   ]
  },
  {
   "cell_type": "code",
   "execution_count": 3,
   "metadata": {},
   "outputs": [
    {
     "name": "stdout",
     "output_type": "stream",
     "text": [
      "root\n",
      " |-- id: string (nullable = true)\n",
      " |-- member_id: string (nullable = true)\n",
      " |-- loan_amnt: string (nullable = true)\n",
      " |-- funded_amnt: string (nullable = true)\n",
      " |-- funded_amnt_inv: string (nullable = true)\n",
      " |-- term: string (nullable = true)\n",
      " |-- int_rate: string (nullable = true)\n",
      " |-- installment: string (nullable = true)\n",
      " |-- grade: string (nullable = true)\n",
      " |-- sub_grade: string (nullable = true)\n",
      " |-- emp_title: string (nullable = true)\n",
      " |-- emp_length: string (nullable = true)\n",
      " |-- home_ownership: string (nullable = true)\n",
      " |-- annual_inc: string (nullable = true)\n",
      " |-- verification_status: string (nullable = true)\n",
      " |-- issue_d: string (nullable = true)\n",
      " |-- loan_status: string (nullable = true)\n",
      " |-- pymnt_plan: string (nullable = true)\n",
      " |-- url: string (nullable = true)\n",
      " |-- desc: string (nullable = true)\n",
      " |-- purpose: string (nullable = true)\n",
      " |-- title: string (nullable = true)\n",
      " |-- zip_code: string (nullable = true)\n",
      " |-- addr_state: string (nullable = true)\n",
      " |-- dti: string (nullable = true)\n",
      " |-- delinq_2yrs: string (nullable = true)\n",
      " |-- earliest_cr_line: string (nullable = true)\n",
      " |-- inq_last_6mths: string (nullable = true)\n",
      " |-- mths_since_last_delinq: string (nullable = true)\n",
      " |-- mths_since_last_record: string (nullable = true)\n",
      " |-- open_acc: string (nullable = true)\n",
      " |-- pub_rec: string (nullable = true)\n",
      " |-- revol_bal: string (nullable = true)\n",
      " |-- revol_util: string (nullable = true)\n",
      " |-- total_acc: string (nullable = true)\n",
      " |-- initial_list_status: string (nullable = true)\n",
      " |-- out_prncp: string (nullable = true)\n",
      " |-- out_prncp_inv: string (nullable = true)\n",
      " |-- total_pymnt: string (nullable = true)\n",
      " |-- total_pymnt_inv: string (nullable = true)\n",
      " |-- total_rec_prncp: string (nullable = true)\n",
      " |-- total_rec_int: string (nullable = true)\n",
      " |-- total_rec_late_fee: string (nullable = true)\n",
      " |-- recoveries: string (nullable = true)\n",
      " |-- collection_recovery_fee: string (nullable = true)\n",
      " |-- last_pymnt_d: string (nullable = true)\n",
      " |-- last_pymnt_amnt: string (nullable = true)\n",
      " |-- next_pymnt_d: string (nullable = true)\n",
      " |-- last_credit_pull_d: string (nullable = true)\n",
      " |-- collections_12_mths_ex_med: string (nullable = true)\n",
      " |-- mths_since_last_major_derog: string (nullable = true)\n",
      " |-- policy_code: string (nullable = true)\n",
      " |-- application_type: string (nullable = true)\n",
      " |-- annual_inc_joint: string (nullable = true)\n",
      " |-- dti_joint: string (nullable = true)\n",
      " |-- verification_status_joint: string (nullable = true)\n",
      " |-- acc_now_delinq: string (nullable = true)\n",
      " |-- tot_coll_amt: string (nullable = true)\n",
      " |-- tot_cur_bal: string (nullable = true)\n",
      " |-- open_acc_6m: string (nullable = true)\n",
      " |-- open_il_6m: string (nullable = true)\n",
      " |-- open_il_12m: string (nullable = true)\n",
      " |-- open_il_24m: string (nullable = true)\n",
      " |-- mths_since_rcnt_il: string (nullable = true)\n",
      " |-- total_bal_il: string (nullable = true)\n",
      " |-- il_util: string (nullable = true)\n",
      " |-- open_rv_12m: string (nullable = true)\n",
      " |-- open_rv_24m: string (nullable = true)\n",
      " |-- max_bal_bc: string (nullable = true)\n",
      " |-- all_util: string (nullable = true)\n",
      " |-- total_rev_hi_lim: string (nullable = true)\n",
      " |-- inq_fi: string (nullable = true)\n",
      " |-- total_cu_tl: string (nullable = true)\n",
      " |-- inq_last_12m: string (nullable = true)\n",
      "\n"
     ]
    }
   ],
   "source": [
    "dataload.printSchema()"
   ]
  },
  {
   "cell_type": "code",
   "execution_count": 11,
   "metadata": {},
   "outputs": [
    {
     "data": {
      "text/plain": [
       "887379"
      ]
     },
     "execution_count": 11,
     "metadata": {},
     "output_type": "execute_result"
    }
   ],
   "source": [
    "dataload.count()"
   ]
  },
  {
   "cell_type": "markdown",
   "metadata": {},
   "source": [
    "# Clean data"
   ]
  },
  {
   "cell_type": "markdown",
   "metadata": {},
   "source": [
    "## Check for duplications"
   ]
  },
  {
   "cell_type": "code",
   "execution_count": 8,
   "metadata": {},
   "outputs": [
    {
     "name": "stdout",
     "output_type": "stream",
     "text": [
      "Count of rows: 887379\n",
      "Count of distinct rows: 887379\n"
     ]
    }
   ],
   "source": [
    "print('Count of rows: {0}'.format(dataload.count()))\n",
    "print('Count of distinct rows: {0}'.format(dataload.distinct().count()))"
   ]
  },
  {
   "cell_type": "markdown",
   "metadata": {},
   "source": [
    "The amount of rows is same, so not exist duplicate data"
   ]
  },
  {
   "cell_type": "markdown",
   "metadata": {},
   "source": [
    "## Missing observations"
   ]
  },
  {
   "cell_type": "code",
   "execution_count": 115,
   "metadata": {
    "scrolled": true
   },
   "outputs": [
    {
     "name": "stdout",
     "output_type": "stream",
     "text": [
      "+-----------+---------+-----------+----------+-----+---------+--------------+-------------------+--------------+--------------------+----------+--------+----------+-----+--------------+--------+-------+---------+----------+---------+-------------+---------------+---------------+-------------+\n",
      "|loan_status|loan_amnt|funded_amnt|      term|grade|sub_grade|home_ownership|verification_status|       purpose|               title|emp_length|int_rate|annual_inc|  dti|inq_last_6mths|open_acc|pub_rec|revol_bal|revol_util|total_acc|  total_pymnt|total_pymnt_inv|total_rec_prncp|total_rec_int|\n",
      "+-----------+---------+-----------+----------+-----+---------+--------------+-------------------+--------------+--------------------+----------+--------+----------+-----+--------------+--------+-------+---------+----------+---------+-------------+---------------+---------------+-------------+\n",
      "| Fully Paid|   5000.0|     5000.0| 36 months|    B|       B2|          RENT|           Verified|   credit_card|            Computer| 10+ years|   10.65|   24000.0|27.65|           1.0|     3.0|    0.0|  13648.0|      83.7|      9.0|5861.07141425|        5831.78|         5000.0|       861.07|\n",
      "|Charged Off|   2500.0|     2500.0| 60 months|    C|       C4|          RENT|    Source Verified|           car|                bike|  < 1 year|   15.27|   30000.0|  1.0|           5.0|     3.0|    0.0|   1687.0|       9.4|      4.0|      1008.71|        1008.71|         456.46|       435.17|\n",
      "| Fully Paid|   2400.0|     2400.0| 36 months|    C|       C5|          RENT|       Not Verified|small_business|real estate business| 10+ years|   15.96|   12252.0| 8.72|           2.0|     2.0|    0.0|   2956.0|      98.5|     10.0|3003.65364445|        3003.65|         2400.0|       603.65|\n",
      "| Fully Paid|  10000.0|    10000.0| 36 months|    C|       C1|          RENT|    Source Verified|         other|            personel| 10+ years|   13.49|   49200.0| 20.0|           1.0|    10.0|    0.0|   5598.0|      21.0|     37.0|12226.3022123|        12226.3|        10000.0|      2209.33|\n",
      "|    Current|   3000.0|     3000.0| 60 months|    B|       B5|          RENT|    Source Verified|         other|            Personal|    1 year|   12.69|   80000.0|17.94|           0.0|    15.0|    0.0|  27783.0|      53.9|     38.0|      3242.17|        3242.17|         2233.1|      1009.07|\n",
      "+-----------+---------+-----------+----------+-----+---------+--------------+-------------------+--------------+--------------------+----------+--------+----------+-----+--------------+--------+-------+---------+----------+---------+-------------+---------------+---------------+-------------+\n",
      "only showing top 5 rows\n",
      "\n"
     ]
    }
   ],
   "source": [
    "datafilterloan = sqlContext.sql(\"select loan_status,loan_amnt,funded_amnt,term,grade,sub_grade,home_ownership,verification_status,purpose,title,emp_length,int_rate,annual_inc,dti,inq_last_6mths,open_acc,pub_rec,revol_bal,revol_util,total_acc,total_pymnt,total_pymnt_inv,total_rec_prncp,total_rec_int from loancredit\")\n",
    "#datafilterloan_1=sqlContext.sql(\"select loan_status,loan_amnt as lo_mnt,funded_amnt as fun_mnt,term,grade,sub_grade as s_grad,home_ownership as hom_own,verification_status as verfi_sta,purpose from loancredit\")\n",
    "#sqlContext.sql(\"select loan_status,loan_amnt as lo_mnt,funded_amnt as fun_mnt,term,grade,sub_grade as s_grad,home_ownership as hom_own,verification_status as verfi_sta,purpose from loancredit\").show(5)\n",
    "#datafilterloan_2=sqlContext.sql(\"select loan_status,title,emp_length,int_rate,annual_inc,dti,inq_last_6mths,open_acc,pub_rec,revol_bal from loancredit\")\n",
    "#sqlContext.sql(\"select loan_status,title,emp_length,int_rate,annual_inc,dti,inq_last_6mths,open_acc,pub_rec,revol_bal from loancredit\").show(5)\n",
    "#datafilterloan_3=sqlContext.sql(\"select loan_status,revol_util,total_acc,total_pymnt,total_pymnt_inv,total_rec_prncp as TotRecPy,total_rec_int as TotRecInt,last_pymnt_amnt,last_pymnt_d from loancredit\")\n",
    "#sqlContext.sql(\"select loan_status,revol_util,total_acc,total_pymnt,total_pymnt_inv,total_rec_prncp as TotRecPy,total_rec_int as TotRecInt,last_pymnt_amnt,last_pymnt_d from loancredit\").show(5)\n",
    "datafilterloan.show(5)"
   ]
  },
  {
   "cell_type": "markdown",
   "metadata": {},
   "source": [
    "### Discretization: Convert the categorical variable in numeric variable.\n",
    "### Conversion of the following variable:\n",
    "* loan_status\n",
    "* term\n",
    "* grade\n",
    "* sub_grade\n",
    "* home_ownership\n",
    "* verification_status\n",
    "* purpose\n",
    "* emp_length"
   ]
  },
  {
   "cell_type": "markdown",
   "metadata": {},
   "source": [
    "### Encoding function of the following variable (Loan Status, term, grade, sub_grade, home_ownership, verification_status, purpose, title)"
   ]
  },
  {
   "cell_type": "code",
   "execution_count": 139,
   "metadata": {},
   "outputs": [
    {
     "name": "stdout",
     "output_type": "stream",
     "text": [
      "10\n"
     ]
    }
   ],
   "source": [
    "def loan_status_transformer(cat):\n",
    "    if(cat is None):\n",
    "        return 0\n",
    "    else:\n",
    "        if(cat == 'Fully Paid'): \n",
    "            return 1\n",
    "        elif(cat == 'Charged Off'): \n",
    "            return 2\n",
    "        elif(cat == 'Current'): \n",
    "            return 3\n",
    "        elif(cat == 'Default'): \n",
    "            return 4\n",
    "        elif(cat == 'In Grace Period'): \n",
    "            return 5\n",
    "        elif(cat == 'Late (31-120 days)'): \n",
    "            return 6\n",
    "        else:\n",
    "            return 0\n",
    "def term_transformer(cat):\n",
    "    if(cat is None):\n",
    "        return 0\n",
    "    else:\n",
    "        if(cat.strip() == '60 months'): \n",
    "            return 2\n",
    "        elif(cat.strip() == '36 months'): \n",
    "            return 1\n",
    "        else:\n",
    "            return 0\n",
    "def grade_transformer(cat):\n",
    "    if(cat is None):\n",
    "        return 0\n",
    "    else:\n",
    "        alfa = \"ABCDEFG\"\n",
    "        for ind,x in enumerate(alfa):\n",
    "            if(x==cat):\n",
    "                return ind+1  \n",
    "        return 0\n",
    "def subgrade_transformer(cat):\n",
    "    if(cat is None):\n",
    "        return 0\n",
    "    else:\n",
    "        alfa = \"ABCDEFG\"\n",
    "        numer = \"12345\"\n",
    "        count=1\n",
    "        for indx,x in enumerate(alfa):\n",
    "            for indy,y in enumerate(numer):\n",
    "                if(x+y == cat.strip()):\n",
    "                    return count\n",
    "                count+=1\n",
    "        return count\n",
    "def emplen_transformer(cat):\n",
    "    output=0\n",
    "    if(cat == \"n/a\" or cat is None):\n",
    "        output=0\n",
    "    if(cat == \"< 1 year\"):\n",
    "        output=1\n",
    "    for item in range(10):\n",
    "        if((str(item)+\" years\") == cat.strip()):\n",
    "            output=item\n",
    "    if(cat =='10+ years'):\n",
    "        output=10\n",
    "    return output\n",
    "def hoow_transformer(cat):\n",
    "    if(cat is None):\n",
    "            return 0\n",
    "    else:\n",
    "        if(cat.strip() == 'MORTAGE'): \n",
    "            return 1\n",
    "        elif(cat.strip() == 'OWN'): \n",
    "            return 2\n",
    "        elif(cat.strip() == 'RENT'): \n",
    "            return 3\n",
    "        else:\n",
    "            return 0\n",
    "def verst_transformer(cat):\n",
    "    if(cat is None):\n",
    "        return 0\n",
    "    else:\n",
    "        if(cat.strip() == 'Not Verified'): \n",
    "            return 1\n",
    "        elif(cat.strip() == 'Verified'): \n",
    "            return 2\n",
    "        elif(cat.strip() == 'Source Verified'): \n",
    "            return 3\n",
    "        else:\n",
    "            return 0\n",
    "def purp_transformer(cat):\n",
    "    if(cat is None):\n",
    "        return 0\n",
    "    else:\n",
    "        if(cat.strip() == 'car'): \n",
    "            return 13\n",
    "        elif(cat.strip() == 'credit_card'): \n",
    "            return 1\n",
    "        elif(cat.strip() == 'debt_consolidation'): \n",
    "            return 2\n",
    "        elif(cat.strip() == 'home_improvement'): \n",
    "            return 3\n",
    "        elif(cat.strip() == 'house'): \n",
    "            return 4\n",
    "        elif(cat.strip() == 'major_purchase'): \n",
    "            return 5\n",
    "        elif(cat.strip() == 'medical'): \n",
    "            return 6\n",
    "        elif(cat.strip() == 'moving'): \n",
    "            return 7\n",
    "        elif(cat.strip() == 'other'): \n",
    "            return 8\n",
    "        elif(cat.strip() == 'renewable_energi'): \n",
    "            return 9\n",
    "        elif(cat.strip() == 'small_business'): \n",
    "            return 10\n",
    "        elif(cat.strip() == 'vacation'): \n",
    "            return 11\n",
    "        elif(cat.strip() == 'wedding'): \n",
    "            return 12\n",
    "        else:\n",
    "            return 0\n",
    "print(emplen_transformer('10+ years'))"
   ]
  },
  {
   "cell_type": "code",
   "execution_count": 6,
   "metadata": {},
   "outputs": [],
   "source": [
    "import pyspark.ml.feature as ft\n",
    "import pyspark.sql.types as typ\n",
    "import numpy as np\n",
    "from pyspark.sql.functions import udf\n",
    "from pyspark.sql.types import *"
   ]
  },
  {
   "cell_type": "markdown",
   "metadata": {},
   "source": [
    "### Convert from categorical to numerical features through UDF"
   ]
  },
  {
   "cell_type": "code",
   "execution_count": 140,
   "metadata": {},
   "outputs": [],
   "source": [
    "# loan_status\n",
    "udfloan_status_transformer = udf(loan_status_transformer, IntegerType())\n",
    "datafilterloan = datafilterloan.withColumn(\"loan_status_int\", udfloan_status_transformer(\"loan_status\"))\n",
    "# term\n",
    "udfterm_transformer = udf(term_transformer, IntegerType())\n",
    "datafilterloan = datafilterloan.withColumn(\"term_int\", udfterm_transformer(\"term\"))\n",
    "# grade\n",
    "udfgrade_transformer = udf(grade_transformer, IntegerType())\n",
    "datafilterloan = datafilterloan.withColumn(\"grade_int\", udfgrade_transformer(\"grade\"))\n",
    "# sub_grade\n",
    "udfsubgrade_transformer = udf(subgrade_transformer, IntegerType())\n",
    "datafilterloan = datafilterloan.withColumn(\"su_grad_int\", udfsubgrade_transformer(\"sub_grade\"))\n",
    "# home_ownership\n",
    "udfhoow_transformer = udf(hoow_transformer, IntegerType())\n",
    "datafilterloan = datafilterloan.withColumn(\"homeowner_int\", udfhoow_transformer(\"home_ownership\"))\n",
    "# verification_status\n",
    "udfverst_transformer = udf(verst_transformer, IntegerType())\n",
    "datafilterloan = datafilterloan.withColumn(\"veri_sta_int\", udfverst_transformer(\"verification_status\"))\n",
    "# purpose\n",
    "udfpurp_transformer = udf(purp_transformer, IntegerType())\n",
    "datafilterloan = datafilterloan.withColumn(\"purpose_int\", udfpurp_transformer(\"purpose\"))\n",
    "# purpose\n",
    "udfemplen_transformer = udf(emplen_transformer, IntegerType())\n",
    "datafilterloan = datafilterloan.withColumn(\"emp_length_int\", udfemplen_transformer(\"emp_length\"))"
   ]
  },
  {
   "cell_type": "markdown",
   "metadata": {},
   "source": [
    "### Test of Discretizaties values"
   ]
  },
  {
   "cell_type": "code",
   "execution_count": 135,
   "metadata": {},
   "outputs": [
    {
     "name": "stdout",
     "output_type": "stream",
     "text": [
      "+---------------+--------+---------+-----------+-------------+------------+-----------+--------------+\n",
      "|loan_status_int|term_int|grade_int|su_grad_int|homeowner_int|veri_sta_int|purpose_int|emp_length_int|\n",
      "+---------------+--------+---------+-----------+-------------+------------+-----------+--------------+\n",
      "|              1|       1|        1|          6|            3|           2|          1|            10|\n",
      "|              2|       2|        2|         13|            3|           3|         13|             1|\n",
      "|              1|       1|        2|         14|            3|           1|         10|            10|\n",
      "|              1|       1|        2|         10|            3|           3|          8|            10|\n",
      "|              3|       2|        1|          9|            3|           3|          8|             0|\n",
      "|              1|       1|        0|          3|            3|           3|         12|             3|\n",
      "|              3|       2|        2|         14|            3|           1|          2|             8|\n",
      "|              1|       1|        4|         20|            3|           3|         13|             9|\n",
      "|              2|       2|        5|         26|            2|           3|         10|             4|\n",
      "|              2|       2|        1|          9|            3|           2|          8|             1|\n",
      "+---------------+--------+---------+-----------+-------------+------------+-----------+--------------+\n",
      "only showing top 10 rows\n",
      "\n"
     ]
    }
   ],
   "source": [
    "datafilterloan.select(\"loan_status_int\",\"term_int\",\"grade_int\",\"su_grad_int\",\"homeowner_int\",\"veri_sta_int\",\"purpose_int\",\"emp_length_int\").show(10)"
   ]
  },
  {
   "cell_type": "markdown",
   "metadata": {},
   "source": [
    "## Stratification: Put values in range.\n",
    "   ### Strat the following variable:\n",
    "\n",
    "* loan_amnt\n",
    "* funded_amnt\n",
    "* annual_inc\n",
    "* revol_bal"
   ]
  },
  {
   "cell_type": "markdown",
   "metadata": {},
   "source": [
    "### Stratification function of the following variable (loan_amnt, funded_amnt, annual_inc, revol_bal)"
   ]
  },
  {
   "cell_type": "code",
   "execution_count": 136,
   "metadata": {},
   "outputs": [
    {
     "name": "stdout",
     "output_type": "stream",
     "text": [
      "5\n"
     ]
    }
   ],
   "source": [
    "import numbers\n",
    "def loan_amnt_strat(recei):    \n",
    "    try:\n",
    "        if(recei is None):\n",
    "            return 0\n",
    "        else:\n",
    "            val_str=float(recei)\n",
    "            val_comp=0.00\n",
    "            for itera in range(7):\n",
    "                if(val_str >= val_comp and val_str < (val_comp+5001.00)): \n",
    "                    return itera+1\n",
    "                val_comp+=5000.00\n",
    "            return 0\n",
    "    except ValueError: \n",
    "        return 0\n",
    "def funded_amnt_strat(recei):\n",
    "    try:\n",
    "        if(recei is None):\n",
    "            return 0\n",
    "        else:\n",
    "            val_str=float(recei)\n",
    "            val_comp=0.00\n",
    "            for itera in range(7):\n",
    "                if(val_str >= val_comp and val_str < (val_comp+5001.00)): \n",
    "                    return itera+1\n",
    "                val_comp+=5000.00\n",
    "            return 0\n",
    "    except ValueError: \n",
    "        return 0\n",
    "def annual_inc_strat(recei):\n",
    "    try:\n",
    "        if(recei is None):\n",
    "            return 0\n",
    "        else:\n",
    "            val_str=float(recei)\n",
    "            val_comp=0.00\n",
    "            for itera in range(105):\n",
    "                if(val_str >= val_comp and val_str < (val_comp+5001.00)): \n",
    "                    return itera+1\n",
    "                val_comp+=5000.00\n",
    "            return 0\n",
    "    except ValueError: \n",
    "        return 0\n",
    "def revol_bal_strat(receiy):\n",
    "    try:\n",
    "        if(receiy is None):\n",
    "            return 0\n",
    "        else:\n",
    "            val_str=float(receiy)\n",
    "            val_comp=0.00\n",
    "            for itera in range(66):\n",
    "                if(val_str >= val_comp and val_str < (val_comp+2001.00)): \n",
    "                    return itera+1\n",
    "                val_comp+=2000.00\n",
    "            return 0\n",
    "    except ValueError: \n",
    "        return 0\n",
    "def revol_util_strat(receiy):\n",
    "    try:\n",
    "        if(receiy is None):\n",
    "            return 0\n",
    "        else:\n",
    "            val_str=float(receiy)\n",
    "            val_comp=0.00\n",
    "            for itera in range(66):\n",
    "                if(val_str >= val_comp and val_str < (val_comp+1001.00)): \n",
    "                    return itera+1\n",
    "                val_comp+=1000.00\n",
    "            return 0\n",
    "    except ValueError: \n",
    "        return 0\n",
    "def total_pymnt_strat(receiy):\n",
    "    try:\n",
    "        if(receiy is None):\n",
    "            return 0\n",
    "        else:\n",
    "            val_str=float(receiy)\n",
    "            val_comp=0.00\n",
    "            for itera in range(30):\n",
    "                if(val_str >= val_comp and val_str < (val_comp+2001.00)): \n",
    "                    return itera+1\n",
    "                val_comp+=2000.00\n",
    "            return 0\n",
    "    except ValueError: \n",
    "        return 0\n",
    "def total_pymnt_inv_strat(receiy):\n",
    "    try:\n",
    "        if(receiy is None):\n",
    "            return 0\n",
    "        else:\n",
    "            val_str=float(receiy)\n",
    "            val_comp=0.00\n",
    "            for itera in range(30):\n",
    "                if(val_str >= val_comp and val_str < (val_comp+2001.00)): \n",
    "                    return itera+1\n",
    "                val_comp+=2000.00\n",
    "            return 0\n",
    "    except ValueError: \n",
    "        return 0\n",
    "def total_rec_prncp_strat(receiy):\n",
    "    try:\n",
    "        if(receiy is None):\n",
    "            return 0\n",
    "        else:\n",
    "            val_str=float(receiy)\n",
    "            val_comp=0.00\n",
    "            for itera in range(14):\n",
    "                if(val_str >= val_comp and val_str < (val_comp+2501.00)): \n",
    "                    return itera+1\n",
    "                val_comp+=2500.00\n",
    "            return 0\n",
    "    except ValueError: \n",
    "        return 0\n",
    "def total_rec_int_strat(receiy):\n",
    "    try:\n",
    "        if(receiy is None):\n",
    "            return 0\n",
    "        else:\n",
    "            val_str=float(receiy)\n",
    "            val_comp=0.00\n",
    "            for itera in range(14):\n",
    "                if(val_str >= val_comp and val_str < (val_comp+2501.00)): \n",
    "                    return itera+1\n",
    "                val_comp+=2500.00\n",
    "            return 0\n",
    "    except ValueError: \n",
    "        return 0\n",
    "def int_rate_strat(receiy):\n",
    "    try:\n",
    "        if(receiy is None):\n",
    "            return 0\n",
    "        else:\n",
    "            val_str=float(receiy)\n",
    "            val_comp=0.00\n",
    "            for itera in range(16):\n",
    "                if(val_str >= val_comp and val_str < (val_comp+1.00)): \n",
    "                    return itera+1\n",
    "                val_comp+=1.00\n",
    "            return 0\n",
    "    except ValueError: \n",
    "        return 0\n",
    "def dti_strat(receiy):\n",
    "    try:\n",
    "        if(receiy is None):\n",
    "            return 0\n",
    "        else:\n",
    "            val_str=float(receiy)\n",
    "            val_comp=0.00\n",
    "            for itera in range(20):\n",
    "                if(val_str >= val_comp and val_str < (val_comp+5.00)): \n",
    "                    return itera+1\n",
    "                val_comp+=5.00\n",
    "            return 0\n",
    "    except ValueError: \n",
    "        return 0\n",
    "def inq_last_6mths_strat(receiy):\n",
    "    try:\n",
    "        if(receiy is None):\n",
    "            return 0\n",
    "        else:\n",
    "            val_str=float(receiy)\n",
    "            val_comp=0.00\n",
    "            for itera in range(17):\n",
    "                if(val_str >= val_comp and val_str < (val_comp+2.00)): \n",
    "                    return itera+1\n",
    "                val_comp+=2.00\n",
    "            return 0\n",
    "    except ValueError: \n",
    "        return 0\n",
    "def pub_rec_strat(receiy):\n",
    "    try:\n",
    "        if(receiy is None):\n",
    "            return 0\n",
    "        else:\n",
    "            val_str=float(receiy)\n",
    "            val_comp=0.00\n",
    "            for itera in range(25):\n",
    "                if(val_str >= val_comp and val_str < (val_comp+4.00)): \n",
    "                    return itera+1\n",
    "                val_comp+=4.00\n",
    "            return 0\n",
    "    except ValueError: \n",
    "        return 0\n",
    "def total_acc_strat(receiy):\n",
    "    try:\n",
    "        if(receiy is None):\n",
    "            return 0\n",
    "        else:\n",
    "            val_str=float(receiy)\n",
    "            val_comp=0.00\n",
    "            for itera in range(40):\n",
    "                if(val_str >= val_comp and val_str < (val_comp+500.00)): \n",
    "                    return itera+1\n",
    "                val_comp+=500.00\n",
    "            return 0\n",
    "    except ValueError: \n",
    "        return 0\n",
    "print(total_acc_strat('2134.5'))"
   ]
  },
  {
   "cell_type": "markdown",
   "metadata": {},
   "source": [
    "### Stratific Big numerical Features"
   ]
  },
  {
   "cell_type": "code",
   "execution_count": 137,
   "metadata": {},
   "outputs": [],
   "source": [
    "# loan_amnt\n",
    "udfloan_amnt_strat = udf(loan_amnt_strat, IntegerType())\n",
    "datafilterloan = datafilterloan.withColumn(\"loan_amnt_strat\", udfloan_amnt_strat(\"loan_amnt\"))\n",
    "# funded_amnt\n",
    "udffunded_amnt_strat = udf(funded_amnt_strat, IntegerType())\n",
    "datafilterloan = datafilterloan.withColumn(\"funded_amnt_strat\", udffunded_amnt_strat(\"funded_amnt\"))\n",
    "# annual_inc\n",
    "udfannual_inc_strat = udf(annual_inc_strat, IntegerType())\n",
    "datafilterloan = datafilterloan.withColumn(\"annual_inc_strat\", udfannual_inc_strat(\"annual_inc\"))\n",
    "# revol_bal\n",
    "udfrevol_bal_strat = udf(revol_bal_strat, IntegerType())\n",
    "datafilterloan = datafilterloan.withColumn(\"revol_bal_strat\", udfrevol_bal_strat(\"revol_bal\"))\n",
    "# revol_util\n",
    "udfrevol_util_strat = udf(revol_util_strat, IntegerType())\n",
    "datafilterloan = datafilterloan.withColumn(\"revol_util_strat\", udfrevol_util_strat(\"revol_util\"))\n",
    "# total_pymnt 60000, cada 5000\n",
    "udftotal_pymnt_strat = udf(total_pymnt_strat, IntegerType())\n",
    "datafilterloan = datafilterloan.withColumn(\"total_pymnt_strat\", udftotal_pymnt_strat(\"total_pymnt\"))\n",
    "# total_pymnt_inv 60000, cada 5000\n",
    "udftotal_pymnt_inv_strat = udf(total_pymnt_inv_strat, IntegerType())\n",
    "datafilterloan = datafilterloan.withColumn(\"total_pymnt_inv_strat\", udftotal_pymnt_inv_strat(\"total_pymnt_inv\"))\n",
    "# total_rec_prncp 35000, cada 2500\n",
    "udftotal_rec_prncp_strat = udf(total_rec_prncp_strat, IntegerType())\n",
    "datafilterloan = datafilterloan.withColumn(\"total_rec_prncp_strat\", udftotal_rec_prncp_strat(\"total_rec_prncp\"))\n",
    "# total_rec_int 35000, cada 2500\n",
    "udftotal_rec_int_strat = udf(total_rec_int_strat, IntegerType())\n",
    "datafilterloan = datafilterloan.withColumn(\"total_rec_int_strat\", udftotal_rec_int_strat(\"total_rec_int\"))\n",
    "# int_rate 16, cada 1\n",
    "udfint_rate_strat = udf(int_rate_strat, IntegerType())\n",
    "datafilterloan = datafilterloan.withColumn(\"int_rate_strat\", udfint_rate_strat(\"int_rate\"))\n",
    "# dti 20, cada 5\n",
    "udfdti_strat = udf(dti_strat, IntegerType())\n",
    "datafilterloan = datafilterloan.withColumn(\"dti_strat\", udfdti_strat(\"dti\"))\n",
    "# inq_last_6mths 34, cada 2\n",
    "udfinq_last_6mths_strat = udf(inq_last_6mths_strat, IntegerType())\n",
    "datafilterloan = datafilterloan.withColumn(\"inq_last_6mths_strat\", udfinq_last_6mths_strat(\"inq_last_6mths\"))\n",
    "# pub_rec 100, cada 4\n",
    "udfpub_rec_strat = udf(pub_rec_strat, IntegerType())\n",
    "datafilterloan = datafilterloan.withColumn(\"pub_rec_strat\", udfpub_rec_strat(\"pub_rec\"))\n",
    "# total_acc 40, cada 500\n",
    "udftotal_acc_strat = udf(total_acc_strat, IntegerType())\n",
    "datafilterloan = datafilterloan.withColumn(\"total_acc_strat\", udftotal_acc_strat(\"total_acc\"))"
   ]
  },
  {
   "cell_type": "markdown",
   "metadata": {},
   "source": [
    "### Test of Stratificaties values"
   ]
  },
  {
   "cell_type": "code",
   "execution_count": 124,
   "metadata": {},
   "outputs": [
    {
     "name": "stdout",
     "output_type": "stream",
     "text": [
      "+---------------+-----------------+----------------+---------------+----------------+-----------------+---------------------+---------------------+-------------------+--------------+---------+--------------------+-------------+---------------+\n",
      "|loan_amnt_strat|funded_amnt_strat|annual_inc_strat|revol_bal_strat|revol_util_strat|total_pymnt_strat|total_pymnt_inv_strat|total_rec_prncp_strat|total_rec_int_strat|int_rate_strat|dti_strat|inq_last_6mths_strat|pub_rec_strat|total_acc_strat|\n",
      "+---------------+-----------------+----------------+---------------+----------------+-----------------+---------------------+---------------------+-------------------+--------------+---------+--------------------+-------------+---------------+\n",
      "|              1|                1|               5|              7|               1|                3|                    3|                    2|                  1|            11|        6|                   1|            1|              1|\n",
      "|              1|                1|               6|              1|               1|                1|                    1|                    1|                  1|            16|        1|                   3|            1|              1|\n",
      "|              1|                1|               3|              2|               1|                2|                    2|                    1|                  1|            16|        2|                   2|            1|              1|\n",
      "|              2|                2|              10|              3|               1|                7|                    7|                    4|                  1|            14|        5|                   1|            1|              1|\n",
      "|              1|                1|              16|             14|               1|                2|                    2|                    1|                  1|            13|        4|                   1|            1|              1|\n",
      "+---------------+-----------------+----------------+---------------+----------------+-----------------+---------------------+---------------------+-------------------+--------------+---------+--------------------+-------------+---------------+\n",
      "only showing top 5 rows\n",
      "\n"
     ]
    }
   ],
   "source": [
    "datafilterloan.select(\"loan_amnt_strat\",\"funded_amnt_strat\",\"annual_inc_strat\",\"revol_bal_strat\",\"revol_util_strat\",\"total_pymnt_strat\",\"total_pymnt_inv_strat\",\"total_rec_prncp_strat\",\"total_rec_int_strat\",\"int_rate_strat\",\"dti_strat\",\"inq_last_6mths_strat\",\"pub_rec_strat\",\"total_acc_strat\").show(5)"
   ]
  },
  {
   "cell_type": "markdown",
   "metadata": {},
   "source": [
    "### Clean Data Loan"
   ]
  },
  {
   "cell_type": "code",
   "execution_count": 141,
   "metadata": {},
   "outputs": [
    {
     "name": "stdout",
     "output_type": "stream",
     "text": [
      "+---------------+--------+---------+-----------+-------------+------------+-----------+--------------+---------------+-----------------+----------------+---------------+----------------+-----------------+---------------------+---------------------+-------------------+--------------+---------+--------------------+-------------+---------------+\n",
      "|loan_status_int|term_int|grade_int|su_grad_int|homeowner_int|veri_sta_int|purpose_int|emp_length_int|loan_amnt_strat|funded_amnt_strat|annual_inc_strat|revol_bal_strat|revol_util_strat|total_pymnt_strat|total_pymnt_inv_strat|total_rec_prncp_strat|total_rec_int_strat|int_rate_strat|dti_strat|inq_last_6mths_strat|pub_rec_strat|total_acc_strat|\n",
      "+---------------+--------+---------+-----------+-------------+------------+-----------+--------------+---------------+-----------------+----------------+---------------+----------------+-----------------+---------------------+---------------------+-------------------+--------------+---------+--------------------+-------------+---------------+\n",
      "|              1|       1|        2|          7|            3|           2|          1|            10|              1|                1|               5|              7|               1|                3|                    3|                    2|                  1|            11|        6|                   1|            1|              1|\n",
      "|              2|       2|        3|         14|            3|           3|         13|             1|              1|                1|               6|              1|               1|                1|                    1|                    1|                  1|            16|        1|                   3|            1|              1|\n",
      "|              1|       1|        3|         15|            3|           1|         10|            10|              1|                1|               3|              2|               1|                2|                    2|                    1|                  1|            16|        2|                   2|            1|              1|\n",
      "|              1|       1|        3|         11|            3|           3|          8|            10|              2|                2|              10|              3|               1|                7|                    7|                    4|                  1|            14|        5|                   1|            1|              1|\n",
      "|              3|       2|        2|         10|            3|           3|          8|             0|              1|                1|              16|             14|               1|                2|                    2|                    1|                  1|            13|        4|                   1|            1|              1|\n",
      "|              1|       1|        1|          4|            3|           3|         12|             3|              1|                1|               8|              4|               1|                3|                    3|                    2|                  1|             8|        3|                   2|            1|              1|\n",
      "|              3|       2|        3|         15|            3|           1|          2|             8|              2|                2|              10|              9|               1|                5|                    5|                    3|                  2|            16|        5|                   1|            1|              1|\n",
      "|              1|       1|        5|         21|            3|           3|         13|             9|              1|                1|              10|              5|               1|                2|                    2|                    2|                  1|             0|        2|                   2|            1|              1|\n",
      "|              2|       2|        6|         27|            2|           3|         10|             4|              2|                2|               8|              3|               1|                1|                    1|                    1|                  1|             0|        2|                   2|            1|              1|\n",
      "|              2|       2|        2|         10|            3|           2|          8|             1|              2|                2|               3|              5|               1|                1|                    1|                    1|                  1|            13|        4|                   1|            1|              1|\n",
      "+---------------+--------+---------+-----------+-------------+------------+-----------+--------------+---------------+-----------------+----------------+---------------+----------------+-----------------+---------------------+---------------------+-------------------+--------------+---------+--------------------+-------------+---------------+\n",
      "only showing top 10 rows\n",
      "\n"
     ]
    }
   ],
   "source": [
    "cleandataloan=datafilterloan.select(\"loan_status_int\",\"term_int\",\"grade_int\",\"su_grad_int\",\"homeowner_int\",\"veri_sta_int\",\"purpose_int\",\"emp_length_int\",\"loan_amnt_strat\",\"funded_amnt_strat\",\"annual_inc_strat\",\"revol_bal_strat\",\"revol_util_strat\",\"total_pymnt_strat\",\"total_pymnt_inv_strat\",\"total_rec_prncp_strat\",\"total_rec_int_strat\",\"int_rate_strat\",\"dti_strat\",\"inq_last_6mths_strat\",\"pub_rec_strat\",\"total_acc_strat\")\n",
    "cleandataloan.show(10)"
   ]
  },
  {
   "cell_type": "markdown",
   "metadata": {},
   "source": [
    "# Analyze data"
   ]
  },
  {
   "cell_type": "markdown",
   "metadata": {},
   "source": [
    "## Descriptive Statistics"
   ]
  },
  {
   "cell_type": "markdown",
   "metadata": {},
   "source": [
    "## Here data set, I am going to split in Xtrain, Y train(loan_status)\n",
    "### Y train:\n",
    "* loan_status: \n",
    "### Xtrain:\n",
    "* loan_amnt: The listed amount of the loan applied for by the borrower. If at some point in time, the credit department reduces the loan amount, then it will be reflected in this value.\n",
    "* funded_amnt: The total amount funded by investors for that loan at that point in time.\n",
    "* term: The Number of payments on the loan. Values are in months and can be either 36 or 60.\n",
    "* grade: LC assigned loan grade\n",
    "* sub_grade: LC assigned loan subgrade\n",
    "* home_ownership: The home ownership status provided by the borrower during registration or obtained from the credit report. Our values are: RENT, OWN, MORTGAGE, OTHER\n",
    "* verification_status: The status of the loan during the listing period. Values: APPROVED, NOT_APPROVED.\n",
    "* purpose: A category provided by the borrower for the loan request. Values are: debt_consolidation, medical, home_improvement, renewable_energy, small_business, wedding, vacation, moving, house, car, major_purchase, credit_card, other\n",
    "* emp_length: Employment length in months. Possible values are whole numbers from 0 and higher. Null indicates not employed.\n",
    "* int_rate: Interest Rate on the loan\n",
    "* annual_inc: The annual income provided by the borrower during registration.\n",
    "* dti: The borrower's debt to income ratio, calculated using the monthly payments on the total debt obligations, excluding mortgage, divided by self-reported monthly income.\n",
    "* inq_last_6mths: information from the bureau last 6 months\n",
    "* pub_rec: it indicates risk and hurts your ability to qualify for credit, obligations that were not paid \n",
    "* revol_bal: sometimes a full payment doesn’t (or can’t) happen, The amount of credit you have versus the amount of credit you use is a factor in your credit score\n",
    "* revol_util: the amount of credit the borrower is using relative to all available revolving credit.\n",
    "* total_acc: The total Number of credit lines currently in the borrower's credit file\n",
    "* total_pymnt: The total payment currently\n",
    "* total_pymnt_inv: The total payment currently of investment\n",
    "* total_rec_prncp: \n",
    "* total_rec_int:  interest of recollect total."
   ]
  },
  {
   "cell_type": "markdown",
   "metadata": {},
   "source": [
    "## Descriptive Statistic"
   ]
  },
  {
   "cell_type": "markdown",
   "metadata": {},
   "source": [
    "### Test Balance of Class Loan Status"
   ]
  },
  {
   "cell_type": "code",
   "execution_count": 130,
   "metadata": {},
   "outputs": [
    {
     "name": "stdout",
     "output_type": "stream",
     "text": [
      "+---------------+------+\n",
      "|loan_status_int| count|\n",
      "+---------------+------+\n",
      "|              1|207723|\n",
      "|              6| 11591|\n",
      "|              3|601778|\n",
      "|              5|  6253|\n",
      "|              4|  1219|\n",
      "|              2| 45248|\n",
      "|              0| 13567|\n",
      "+---------------+------+\n",
      "\n"
     ]
    }
   ],
   "source": [
    "cleandataloan.groupby('loan_status_int').count().show()"
   ]
  },
  {
   "cell_type": "markdown",
   "metadata": {},
   "source": [
    "Here I can determine that data is concentrate in two labels in loan status:\n",
    "* 1: Fully Paid\n",
    "* 3: Current\n",
    "* 2: Charged Off"
   ]
  },
  {
   "cell_type": "code",
   "execution_count": 146,
   "metadata": {},
   "outputs": [
    {
     "name": "stdout",
     "output_type": "stream",
     "text": [
      "+-------+------------------+------------------+------------------+------------------+\n",
      "|summary|   loan_status_int|          term_int|         grade_int|       su_grad_int|\n",
      "+-------+------------------+------------------+------------------+------------------+\n",
      "|  count|            887379|            887379|            887379|            887379|\n",
      "|   mean|2.4896239374607694| 1.300045414642447| 2.798402937189183|11.959941580767632|\n",
      "| stddev| 1.005768502459213|0.4582776456114865|1.3125993531916076| 6.493018957756487|\n",
      "|    min|                 0|                 1|                 1|                 1|\n",
      "|    max|                 6|                 2|                 7|                35|\n",
      "+-------+------------------+------------------+------------------+------------------+\n",
      "\n",
      "+-------+------------------+------------------+------------------+------------------+\n",
      "|summary|     homeowner_int|      veri_sta_int|       purpose_int|    emp_length_int|\n",
      "+-------+------------------+------------------+------------------+------------------+\n",
      "|  count|            887379|            887379|            887379|            887379|\n",
      "|   mean| 1.401082288402137|2.0707758466224693|2.5263365484195592| 5.720394555201329|\n",
      "| stddev|1.4293618218431805|0.8166901906175495|2.2151747854895527|3.7861190875199098|\n",
      "|    min|                 0|                 0|                 0|                 0|\n",
      "|    max|                 3|                 3|                13|                10|\n",
      "+-------+------------------+------------------+------------------+------------------+\n",
      "\n"
     ]
    }
   ],
   "source": [
    "#columns=[\"loan_status_int\",\"term_int\",\"grade_int\",\"su_grad_int\",\"homeowner_int\",\"veri_sta_int\",\"purpose_int\",\"emp_length_int\",\"loan_amnt_strat\",\"funded_amnt_strat\",\"annual_inc_strat\",\"revol_bal_strat\",\"revol_util_strat\",\"total_pymnt_strat\",\"total_pymnt_inv_strat\",\"total_rec_prncp_strat\",\"total_rec_int_strat\",\"int_rate_strat\",\"dti_strat\",\"inq_last_6mths_strat\",\"pub_rec_strat\",\"total_acc_strat\"]\n",
    "columns1=[\"loan_status_int\",\"term_int\",\"grade_int\",\"su_grad_int\"]\n",
    "columns2=[\"homeowner_int\",\"veri_sta_int\",\"purpose_int\",\"emp_length_int\"]\n",
    "cleandataloan.describe(columns1).show()\n",
    "cleandataloan.describe(columns2).show()"
   ]
  },
  {
   "cell_type": "markdown",
   "metadata": {},
   "source": [
    "Here, We can to test that not exist a stddev very high, so we can work with this data"
   ]
  },
  {
   "cell_type": "markdown",
   "metadata": {},
   "source": [
    "### Correlations between features"
   ]
  },
  {
   "cell_type": "markdown",
   "metadata": {},
   "source": [
    " Calculate pairwise correlations of:"
   ]
  },
  {
   "cell_type": "code",
   "execution_count": 147,
   "metadata": {},
   "outputs": [
    {
     "name": "stdout",
     "output_type": "stream",
     "text": [
      "-0.07012200137237125\n"
     ]
    }
   ],
   "source": [
    "print(cleandataloan.corr('loan_status_int','purpose_int'))"
   ]
  },
  {
   "cell_type": "markdown",
   "metadata": {},
   "source": [
    "#### Correlations Matrix"
   ]
  },
  {
   "cell_type": "code",
   "execution_count": 149,
   "metadata": {},
   "outputs": [
    {
     "name": "stdout",
     "output_type": "stream",
     "text": [
      "[[1.0, -0.07, 0.0, -0.02, 0.01], [1.0, -0.07, 0.0, -0.02, 0.01], [1.0, -0.07, 0.0, -0.02, 0.01], [1.0, -0.07, 0.0, -0.02, 0.01], [1.0, -0.07, 0.0, -0.02, 0.01], [None, 1.0, 0.05, -0.07, -0.01], [None, 1.0, 0.05, -0.07, -0.01], [None, 1.0, 0.05, -0.07, -0.01], [None, 1.0, 0.05, -0.07, -0.01], [None, None, 1.0, -0.0, -0.22], [None, None, 1.0, -0.0, -0.22], [None, None, 1.0, -0.0, -0.22], [None, None, None, 1.0, -0.01], [None, None, None, 1.0, -0.01], [None, None, None, None, 1.0]]\n"
     ]
    }
   ],
   "source": [
    "#\"loan_status_int\",\"term_int\",\"grade_int\",\"su_grad_int\",\n",
    "#\"homeowner_int\",\"veri_sta_int\",\"purpose_int\",\"emp_length_int\",\"loan_amnt_strat\",\n",
    "#\"funded_amnt_strat\",\"annual_inc_strat\",\"revol_bal_strat\",\"revol_util_strat\",\n",
    "#\"total_pymnt_strat\",\"total_pymnt_inv_strat\",\"total_rec_prncp_strat\",\n",
    "#\"total_rec_int_strat\",\"int_rate_strat\",\"dti_strat\",\"inq_last_6mths_strat\",\n",
    "#\"pub_rec_strat\",\"total_acc_strat\"]\n",
    "numerical=['loan_status_int','purpose_int','homeowner_int','int_rate_strat','annual_inc_strat']\n",
    "n_numerical = len(numerical)\n",
    "corr = []\n",
    "for i in range(0, n_numerical):\n",
    "    temp = [None] * i\n",
    "    for j in range(i, n_numerical):\n",
    "        temp.append(round(cleandataloan.corr(numerical[i], numerical[j]),2))\n",
    "        corr.append(temp)\n",
    "print(corr)"
   ]
  },
  {
   "cell_type": "markdown",
   "metadata": {},
   "source": [
    "### Visualization"
   ]
  },
  {
   "cell_type": "code",
   "execution_count": 162,
   "metadata": {},
   "outputs": [],
   "source": [
    "#import bokeh.charts as chrt\n",
    "from bokeh.plotting import figure, show\n",
    "numerical=['loan_status_int','int_rate_strat']\n",
    "data_multi = dict([(elem, cleandataloan.select(elem).rdd.flatMap(lambda row: row).collect()) for elem in numerical])\n",
    "p = figure(title=\"Loan Status X Interest Rate\")\n",
    "p.scatter(data_multi['int_rate_strat'], data_multi['loan_status_int'], marker='x',line_color=\"#6666ee\", fill_color=\"#ee6666\", fill_alpha=0.5, size=12)\n",
    "show(p)"
   ]
  },
  {
   "cell_type": "code",
   "execution_count": null,
   "metadata": {},
   "outputs": [],
   "source": []
  }
 ],
 "metadata": {
  "kernelspec": {
   "display_name": "Python 3",
   "language": "python",
   "name": "python3"
  },
  "language_info": {
   "codemirror_mode": {
    "name": "ipython",
    "version": 3
   },
   "file_extension": ".py",
   "mimetype": "text/x-python",
   "name": "python",
   "nbconvert_exporter": "python",
   "pygments_lexer": "ipython3",
   "version": "3.5.2"
  }
 },
 "nbformat": 4,
 "nbformat_minor": 2
}
