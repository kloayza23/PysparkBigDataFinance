{
 "cells": [
  {
   "cell_type": "code",
   "execution_count": 21,
   "metadata": {},
   "outputs": [],
   "source": [
    "import numpy as np\n",
    "import pandas as pd\n",
    "import sklearn as sk\n",
    "import matplotlib as mpl "
   ]
  },
  {
   "cell_type": "code",
   "execution_count": 1,
   "metadata": {},
   "outputs": [],
   "source": [
    "from pyspark import SparkContext\n",
    "from pyspark.sql import SQLContext"
   ]
  },
  {
   "cell_type": "code",
   "execution_count": 14,
   "metadata": {},
   "outputs": [],
   "source": [
    "sc = SparkContext('local', 'pyspark tutorial')\n",
    "sqlContext = SQLContext(sc)"
   ]
  },
  {
   "cell_type": "code",
   "execution_count": 3,
   "metadata": {},
   "outputs": [
    {
     "name": "stdout",
     "output_type": "stream",
     "text": [
      "[283.15, 276.15, 268.15]\n"
     ]
    }
   ],
   "source": [
    "temp_c = [10, 3, -5, 25, 1, 9, 29, -10, 5]\n",
    "rdd_temp_c = sc.parallelize(temp_c)\n",
    "rdd_temp_K = rdd_temp_c.map(lambda x: x + 273.15).take(3)\n",
    "print(rdd_temp_K)  "
   ]
  },
  {
   "cell_type": "code",
   "execution_count": 4,
   "metadata": {},
   "outputs": [],
   "source": [
    "sc.addPyFile('pyspark_csv.py')\n",
    "import pyspark_csv as pycsv"
   ]
  },
  {
   "cell_type": "code",
   "execution_count": 31,
   "metadata": {},
   "outputs": [],
   "source": [
    "plaintext_rdd=sc.textFile(\"loan_t1.csv\") \\\n",
    "    .map(lambda line: line.split(\";\")) \\\n",
    "    .filter(lambda line: len(line)>1) \\\n",
    "    .map(lambda line: (line[0],line[1])) \\\n",
    "    .collect()"
   ]
  },
  {
   "cell_type": "code",
   "execution_count": 34,
   "metadata": {},
   "outputs": [],
   "source": [
    "df = sqlContext.read.load('loan_t1.csv', \n",
    "                          format='com.databricks.spark.csv', \n",
    "                          header='true', \n",
    "                          inferSchema='true')"
   ]
  },
  {
   "cell_type": "code",
   "execution_count": 35,
   "metadata": {},
   "outputs": [
    {
     "data": {
      "text/plain": [
       "1641"
      ]
     },
     "execution_count": 35,
     "metadata": {},
     "output_type": "execute_result"
    }
   ],
   "source": [
    "df.count()"
   ]
  },
  {
   "cell_type": "code",
   "execution_count": 38,
   "metadata": {},
   "outputs": [
    {
     "data": {
      "text/plain": [
       "[('loan_status;id;member_id;loan_amnt;funded_amnt;funded_amnt_inv;term;int_rate;installment;grade;sub_grade;emp_title;emp_length;home_ownership;annual_inc;verification_status;issue_d;;pymnt_plan;url;desc;purpose;title;zip_code;addr_state;dti;delinq_2yrs;earliest_cr_line;inq_last_6mths;mths_since_last_delinq;mths_since_last_record;open_acc;pub_rec;revol_bal;revol_util;total_acc;initial_list_status;out_prncp;out_prncp_inv;total_pymnt;total_pymnt_inv;total_rec_prncp;total_rec_int;total_rec_late_fee;recoveries;collection_recovery_fee;last_pymnt_d;last_pymnt_amnt;next_pymnt_d;last_credit_pull_d;collections_12_mths_ex_med;mths_since_last_major_derog;policy_code;application_type;annual_inc_joint;dti_joint;verification_status_joint;acc_now_delinq;tot_coll_amt;tot_cur_bal;open_acc_6m;open_il_6m;open_il_12m;open_il_24m;mths_since_rcnt_il;total_bal_il;il_util;open_rv_12m;open_rv_24m;max_bal_bc;all_util;total_rev_hi_lim;inq_fi;total_cu_tl;inq_last_12m',\n",
       "  'string')]"
      ]
     },
     "execution_count": 38,
     "metadata": {},
     "output_type": "execute_result"
    }
   ],
   "source": [
    "df.dtypes"
   ]
  },
  {
   "cell_type": "code",
   "execution_count": 40,
   "metadata": {},
   "outputs": [
    {
     "data": {
      "text/plain": [
       "DataFrame[summary: string, loan_status;id;member_id;loan_amnt;funded_amnt;funded_amnt_inv;term;int_rate;installment;grade;sub_grade;emp_title;emp_length;home_ownership;annual_inc;verification_status;issue_d;;pymnt_plan;url;desc;purpose;title;zip_code;addr_state;dti;delinq_2yrs;earliest_cr_line;inq_last_6mths;mths_since_last_delinq;mths_since_last_record;open_acc;pub_rec;revol_bal;revol_util;total_acc;initial_list_status;out_prncp;out_prncp_inv;total_pymnt;total_pymnt_inv;total_rec_prncp;total_rec_int;total_rec_late_fee;recoveries;collection_recovery_fee;last_pymnt_d;last_pymnt_amnt;next_pymnt_d;last_credit_pull_d;collections_12_mths_ex_med;mths_since_last_major_derog;policy_code;application_type;annual_inc_joint;dti_joint;verification_status_joint;acc_now_delinq;tot_coll_amt;tot_cur_bal;open_acc_6m;open_il_6m;open_il_12m;open_il_24m;mths_since_rcnt_il;total_bal_il;il_util;open_rv_12m;open_rv_24m;max_bal_bc;all_util;total_rev_hi_lim;inq_fi;total_cu_tl;inq_last_12m: string]"
      ]
     },
     "execution_count": 40,
     "metadata": {},
     "output_type": "execute_result"
    }
   ],
   "source": [
    "df.describe()"
   ]
  },
  {
   "cell_type": "code",
   "execution_count": 42,
   "metadata": {},
   "outputs": [
    {
     "ename": "AttributeError",
     "evalue": "'SQLContext' object has no attribute 'load'",
     "output_type": "error",
     "traceback": [
      "\u001b[0;31m---------------------------------------------------------------------------\u001b[0m",
      "\u001b[0;31mAttributeError\u001b[0m                            Traceback (most recent call last)",
      "\u001b[0;32m<ipython-input-42-35e1ae5a1f9a>\u001b[0m in \u001b[0;36m<module>\u001b[0;34m()\u001b[0m\n\u001b[0;32m----> 1\u001b[0;31m \u001b[0mloan_csv\u001b[0m \u001b[0;34m=\u001b[0m \u001b[0msqlContext\u001b[0m\u001b[0;34m.\u001b[0m\u001b[0mload\u001b[0m\u001b[0;34m(\u001b[0m\u001b[0msource\u001b[0m\u001b[0;34m=\u001b[0m\u001b[0;34m\"com.databricks.spark.csv\"\u001b[0m\u001b[0;34m,\u001b[0m \u001b[0mpath\u001b[0m \u001b[0;34m=\u001b[0m \u001b[0;34m'loan_t1.csv'\u001b[0m\u001b[0;34m,\u001b[0m \u001b[0mheader\u001b[0m \u001b[0;34m=\u001b[0m \u001b[0;32mTrue\u001b[0m\u001b[0;34m,\u001b[0m\u001b[0minferSchema\u001b[0m \u001b[0;34m=\u001b[0m \u001b[0;32mTrue\u001b[0m\u001b[0;34m)\u001b[0m\u001b[0;34m\u001b[0m\u001b[0m\n\u001b[0m",
      "\u001b[0;31mAttributeError\u001b[0m: 'SQLContext' object has no attribute 'load'"
     ]
    }
   ],
   "source": [
    "loan_csv = sqlContext.load(source=\"com.databricks.spark.csv\", path = 'loan_t1.csv', header = True,inferSchema = True)"
   ]
  },
  {
   "cell_type": "code",
   "execution_count": null,
   "metadata": {},
   "outputs": [],
   "source": []
  }
 ],
 "metadata": {
  "kernelspec": {
   "display_name": "Python 3",
   "language": "python",
   "name": "python3"
  },
  "language_info": {
   "codemirror_mode": {
    "name": "ipython",
    "version": 3
   },
   "file_extension": ".py",
   "mimetype": "text/x-python",
   "name": "python",
   "nbconvert_exporter": "python",
   "pygments_lexer": "ipython3",
   "version": "3.5.2"
  }
 },
 "nbformat": 4,
 "nbformat_minor": 2
}
